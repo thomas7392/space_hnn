{
 "cells": [
  {
   "cell_type": "code",
   "execution_count": 48,
   "id": "594a6a0a-7b9a-45fa-8d66-fcd0e3c697fe",
   "metadata": {},
   "outputs": [],
   "source": [
    "# General Imports\n",
    "import os\n",
    "import numpy as np\n",
    "import matplotlib.pyplot as plt\n",
    "from typing import Dict, Iterable, Any\n",
    "\n",
    "# Tensorflow Imports\n",
    "import tensorflow as tf\n",
    "from tensorflow import keras\n",
    "from tensorflow.keras.optimizers import Adam\n",
    "\n",
    "# Scikit Keras wrapper\n",
    "from scikeras.wrappers import KerasRegressor\n",
    "\n",
    "# Specialised loading bar for trainiung\n",
    "from keras_tqdm import TQDMNotebookCallback\n",
    "\n",
    "# Custom imports\n",
    "from pendulum import Pendulum_2D"
   ]
  },
  {
   "cell_type": "code",
   "execution_count": 70,
   "id": "4402872b-8c2e-46e6-af98-a68a5fba9e90",
   "metadata": {},
   "outputs": [],
   "source": [
    "class HNN(keras.Sequential):\n",
    "    '''\n",
    "    Framework for the Equation-driven Hamiltonian Neural Network. \n",
    "    '''\n",
    "    \n",
    "    def __init__(self, t0 = None, \n",
    "                       tfinal = None, \n",
    "                       N = None,\n",
    "                       initial_state = None, \n",
    "                       environment_parameters = None, \n",
    "                       name = None, \n",
    "                       hamilton_equations = None, \n",
    "                       parametric_equation = None, \n",
    "                       hamiltonian = None, \n",
    "                       regularization = False): \n",
    "        \n",
    "        super(HNN, self).__init__(name=name)\n",
    "        \n",
    "        # Functions \n",
    "        self.hamilton_equations = hamilton_equations\n",
    "        self.parametric_equation = parametric_equation\n",
    "        self.hamiltonian = hamiltonian\n",
    "        \n",
    "        # Time parameters\n",
    "        self.t0 = tf.Variable(t0, dtype = tf.float32) \n",
    "        self.tfinal = tf.Variable(tfinal, dtype = tf.float32) \n",
    "        self.N = tf.Variable(N, tf.float32) \n",
    "        self.grid = tf.reshape(tf.linspace(self.t0, self.tfinal, self.N), (-1, 1)) # Base time grid\n",
    "        self.dt = tf.cast((self.grid[1] - self.grid[0])[0], tf.float32)\n",
    "\n",
    "        # Initial state\n",
    "        self.initial_state = tf.convert_to_tensor(initial_state, dtype = tf.float32)\n",
    "        \n",
    "        if regularization: \n",
    "            self.H0 = self.hamiltonian(self.initial_state) \n",
    "        \n",
    "        # Environment parameters\n",
    "        self.environment_parameters = environment_parameters\n",
    "    \n",
    "    @tf.function\n",
    "    def train_step(self, data):\n",
    "        '''\n",
    "        \n",
    "        '''\n",
    "        # Unpack the data. \n",
    "        _, __ = data \n",
    "        \n",
    "        # tf.print(\"Time before = \", self.grid)\n",
    "        time = self.getTimes() \n",
    "        # tf.print(\"Time after = \", time) \n",
    "        \n",
    "        # Watch gradients for backpropagation\n",
    "        with tf.GradientTape() as tape:\n",
    "            \n",
    "            # Watch gradients for calculating time derivative of output for loss\n",
    "            with tf.GradientTape() as tape2: \n",
    "                tape2.watch(time) \n",
    "                nn_result = self(time, training=True)  # Forward pass\n",
    "                state_pred = self.parametric_equation(time, nn_result, self.initial_state) # Enforce initial condition\n",
    "            \n",
    "            # Create LHS and RHS of Hamilton equations\n",
    "            state_deriv_from_hamilton = self.hamilton_equations(state_pred, self.environment_parameters)\n",
    "\n",
    "            # Get all partial derivatives with jacobian (AD) \n",
    "            state_deriv_from_ad = tape2.jacobian(state_pred, time) \n",
    "            \n",
    "            # Reshape the jacobian monstrosity.... Line 1 might be wrong, is 2 hardcoded?\n",
    "            idx = tf.reshape(tf.stack(tf.meshgrid(tf.range(state_pred.shape[0]), tf.range(state_pred.shape[1]), indexing='ij'), axis=-1), [-1, 2])\n",
    "            idx = tf.expand_dims(tf.concat([idx, tf.expand_dims(idx[:, 0], axis=-1)], axis=-1), axis=1)\n",
    "            state_deriv_from_ad = tf.gather_nd(state_deriv_from_ad, idx)\n",
    "            state_deriv_from_ad = tf.reshape(state_deriv_from_ad, state_pred.shape)\n",
    "            \n",
    "            # tf.print(\"Time           = \", time)\n",
    "            # tf.print(\"RHS (hamilton) = \", state_deriv_from_hamilton)\n",
    "            # tf.print(\"LHS (AD)       = \", state_deriv_from_ad)\n",
    "            # tf.print(\"\")\n",
    "            \n",
    "            # Debugging\n",
    "            # tf.print(\"state_pred shape: \", state_pred.shape)\n",
    "            # tf.print(\"state_deriv_from_hamilton shape: \", state_deriv_from_hamilton.shape)\n",
    "            # tf.print(\"state_deriv_from_ad shape: \", state_deriv_from_ad.shape) \n",
    "            \n",
    "            # Compute the loss value\n",
    "            loss = self.compiled_loss(state_deriv_from_ad, state_deriv_from_hamilton)\n",
    "            \n",
    "            if \n",
    "            \n",
    "            # tf.print(\"loss = \", loss) \n",
    "            \n",
    "        # Compute gradients\n",
    "        trainable_vars = self.trainable_variables\n",
    "        gradients = tape.gradient(loss, trainable_vars)\n",
    "        self.optimizer.apply_gradients(zip(gradients, trainable_vars))\n",
    "        self.compiled_metrics.update_state(state_deriv_from_ad, state_deriv_from_hamilton)\n",
    "        \n",
    "        return {m.name: m.result() for m in self.metrics}\n",
    "    \n",
    "    \n",
    "#     def hamilton_equations(self, \n",
    "#                            tens, \n",
    "#                            params): \n",
    "        \n",
    "#         q_tens = tens[:,:1]\n",
    "#         p_tens = tens[:,1:]\n",
    "        \n",
    "#         q_deriv = tf.multiply(p_tens, 1./(params['m'] * params['l'] * params['l']))\n",
    "#         p_deriv = tf.multiply(tf.math.sin(q_tens), -9.81 * params['m'] * params['l']) \n",
    "        \n",
    "#         deriv = tf.concat([q_deriv, p_deriv], axis = 1)        \n",
    "#         return deriv\n",
    "    \n",
    "#     def parametric_equation(self, \n",
    "#                             times, \n",
    "#                             states, \n",
    "#                             initial_state): \n",
    "        \n",
    "#         f = 1 - tf.math.exp(-times)\n",
    "#         result = initial_state + f * states\n",
    "        \n",
    "#         return result\n",
    "    \n",
    "    def parametric_predict(self, x): \n",
    "        '''\n",
    "        custom predict that predicts and aplies the parametric equation \n",
    "        '''\n",
    "        \n",
    "        x = tf.convert_to_tensor(x, dtype = tf.float32) \n",
    "        return self.parametric_equation(x, self.predict(x), self.initial_state).numpy()\n",
    "    \n",
    "    def getTimes(self): \n",
    "        '''\n",
    "        Create time training data by perturbing the baseline time grid.\n",
    "        '''\n",
    "        # Create noise\n",
    "        noise = tf.random.normal(self.grid.shape, mean = 0, stddev = tf.multiply(self.dt, 0.3))\n",
    "        \n",
    "        new_times = self.grid + noise \n",
    "\n",
    "        # Make sure time is not outside [t0, tf]: set to t0 or tf if violated\n",
    "        new_times = tf.where(tf.less(new_times, self.t0), self.t0, new_times)\n",
    "        new_times = tf.where(tf.greater(new_times, self.tfinal), self.tfinal, new_times)\n",
    "\n",
    "        return new_times\n",
    "    \n",
    "    def get_config(self):\n",
    "        \n",
    "        config = super().get_config()\n",
    "        \n",
    "        # Add the additional arguments to the serialized configuration\n",
    "        config.update({\n",
    "             't0': self.t0,\n",
    "             'tfinal': self.tfinal,\n",
    "             'N': self.N,\n",
    "             'initial_state': self.initial_state,\n",
    "             'environment_parameters': self.environment_parameters\n",
    "        })\n",
    "        \n",
    "        return config\n",
    "    \n",
    "    \n",
    "class SineActivationLayer(tf.keras.layers.Layer):\n",
    "    def __init__(self, **kwargs):\n",
    "        super(SineActivationLayer, self).__init__(**kwargs)\n",
    "\n",
    "    def build(self, input_shape):\n",
    "        super(SineActivationLayer, self).build(input_shape)\n",
    "\n",
    "    def call(self, inputs):\n",
    "        return tf.math.sin(inputs)\n",
    "    \n",
    "    def get_config(self): \n",
    "        return super().get_config()\n",
    "\n",
    "    def compute_output_shape(self, input_shape):\n",
    "        return input_shape\n",
    "    \n",
    "    \n",
    "def custom_mse(y_true, y_pred):  \n",
    "        \n",
    "    difference = y_true - y_pred \n",
    "    difference_squared = difference**2\n",
    "    loss = tf.math.reduce_mean(tf.math.reduce_sum(difference_squared, axis = 1))\n",
    "    \n",
    "    return loss"
   ]
  },
  {
   "cell_type": "code",
   "execution_count": 71,
   "id": "498f51eb-e2c6-45e8-862e-72d99fb21dbd",
   "metadata": {},
   "outputs": [
    {
     "name": "stdout",
     "output_type": "stream",
     "text": [
      "0.012998580932617188\n"
     ]
    }
   ],
   "source": [
    "# System parameters\n",
    "m = 1\n",
    "l = 1\n",
    "\n",
    "# Initial condition\n",
    "y0 = np.array([np.pi/4, 0]) \n",
    "t0 = 0\n",
    "\n",
    "# Integration\n",
    "tfinal = 4\n",
    "N = 200\n",
    "\n",
    "# Create benchmark \n",
    "bench = Pendulum_2D(m, l)\n",
    "bench.set_initial_condition(t0, y0, \"generalized\")\n",
    "bench.integrate(\"dop853\", tfinal, \"generalized\", rtol = 1e-12, atol = 1e-12)\n",
    "bench.calculate_coordinates(\"canonical\")\n",
    "print(bench.time) "
   ]
  },
  {
   "cell_type": "markdown",
   "id": "75fddc0b-ae99-4bde-801a-6dbf0f9e01fc",
   "metadata": {
    "tags": []
   },
   "source": [
    "## Trying to create a loading function"
   ]
  },
  {
   "cell_type": "code",
   "execution_count": null,
   "id": "c69173b9-6200-406b-8068-73fc55399c12",
   "metadata": {
    "jupyter": {
     "source_hidden": true
    },
    "tags": []
   },
   "outputs": [],
   "source": [
    "# This is supposed to be temporary\n",
    "def load_model(path): \n",
    "    \n",
    "    model = build_hnn((50, 50), \n",
    "                      None,\n",
    "                      [t0, tfinal, N],\n",
    "                      y0, \n",
    "                      {\"m\": m, \"l\": l},\n",
    "                      weights_path = path)\n",
    "    \n",
    "    regr = KerasRegressor(model)\n",
    "    \n",
    "# Hypothetical...\n",
    "def load_model_2(path): \n",
    "    model = keras.models.load_model(\"my_model\", custom_objects={\"HNN\": HNN, \"SineActivationLayer\": SineActivationLayer})\n",
    "    return model\n",
    "\n",
    "def load_model_3(arc_path, weights_path): \n",
    "    \n",
    "    pass\n",
    "\n",
    "model = load_model(\"hnn_models/pendulum/model4.tf\")"
   ]
  },
  {
   "cell_type": "markdown",
   "id": "34b52f1d-7753-487b-addd-24a939519def",
   "metadata": {
    "tags": []
   },
   "source": [
    "## Building and fitting the model via Scikeras"
   ]
  },
  {
   "cell_type": "code",
   "execution_count": 23,
   "id": "f0b5abf5-6a9f-4c9f-851a-0ded5ab649cc",
   "metadata": {
    "jupyter": {
     "source_hidden": true
    },
    "tags": []
   },
   "outputs": [],
   "source": [
    "def build_hnn_scikeras(hidden_layer_sizes: Iterable[int], \n",
    "              compile_kwargs: Dict[str, Any],\n",
    "              time_parameters, \n",
    "              initial_state,\n",
    "              environment_parameters, \n",
    "              weights_path = None):\n",
    "    \n",
    "    # Create an HNN\n",
    "    model = HNN(time_parameters, \n",
    "                initial_state, \n",
    "                environment_parameters)\n",
    "    \n",
    "    # Define input layer, always 1 dimension: time\n",
    "    inp = keras.layers.Input(shape=(1,))\n",
    "    model.add(inp)\n",
    "    \n",
    "    # Define hidden layer structure\n",
    "    for hidden_layer_size in hidden_layer_sizes:\n",
    "        layer = keras.layers.Dense(hidden_layer_size, activation=SineActivationLayer())\n",
    "        model.add(layer)\n",
    "    \n",
    "    # Final layer\n",
    "    out = keras.layers.Dense(2)\n",
    "    model.add(out)\n",
    "    \n",
    "    if weights_path != None: \n",
    "        print(\"loading weights\")\n",
    "        model.load_weights(weights_path)\n",
    "\n",
    "    print(\"Hello, world!\")\n",
    "    print(compile_kwargs[\"optimizer\"]) \n",
    "\n",
    "    model.compile(loss=loss, optimizer=compile_kwargs[\"optimizer\"])\n",
    "\n",
    "    return model\n",
    "\n",
    "regr = KerasRegressor(model=build_hnn_scikeras, \n",
    "                            hidden_layer_sizes=(50, 50),\n",
    "                            optimizer= \"adam\",\n",
    "                            epochs = int(5e4),\n",
    "                            loss=custom_mse,\n",
    "                            batch_size = N,\n",
    "                            run_eagerly =  False,\n",
    "                            optimizer__beta_1 = 0.999, \n",
    "                            optimizer__beta_2 = 0.999, \n",
    "                            optimizer__learning_rate=8e-3, \n",
    "                            time_parameters = [t0, tfinal, N],\n",
    "                            initial_state = y0, \n",
    "                            environment_parameters = {\"m\": m, \"l\": l})\n",
    "\n",
    "regr.fit(np.zeros(N).reshape(-1, 1), \n",
    "         np.zeros((N, 2)), \n",
    "         verbose = 0)"
   ]
  },
  {
   "cell_type": "markdown",
   "id": "7a2e3598-e3e5-4e82-82d9-19cdd5a30511",
   "metadata": {},
   "source": [
    "## Building a general HNN model directly from keras"
   ]
  },
  {
   "cell_type": "code",
   "execution_count": 72,
   "id": "7edb5fc7-552c-468c-993a-83e78be1df6f",
   "metadata": {},
   "outputs": [],
   "source": [
    "def _check_arguments(args): \n",
    "    '''\n",
    "    Check if all the required arguments are passed\n",
    "    '''\n",
    "    \n",
    "    for arg, value in args.items(): \n",
    "        if value is None: \n",
    "            raise ValueError(f\"Argument '{arg}' not provided, idiot!\") \n",
    "\n",
    "def _build_optimizer(optimizer, optimizer_config):\n",
    "    '''\n",
    "    Create optimizer with provided parameters\n",
    "    '''\n",
    "    # Choose optimizer\n",
    "    if optimizer == \"adam\":\n",
    "        optimizer_object = tf.keras.optimizers.Adam(learning_rate=optimizer_config['lr'], \n",
    "                                 beta_1=optimizer_config['beta_1'], \n",
    "                                 beta_2=optimizer_config['beta_2'])\n",
    "    else: \n",
    "        raise ValueErrror(\"Optimizer not implemented\")\n",
    "    \n",
    "    return optimizer_object\n",
    "        \n",
    "def build_hnn_keras(hidden_layer_sizes = None,\n",
    "                  optimizer = None,\n",
    "                  optimizer_config = None,\n",
    "                  loss_function = None,\n",
    "                  time_parameters = None, \n",
    "                  initial_state = None,\n",
    "                  environment_parameters = None, \n",
    "                  hamilton_equations = None, \n",
    "                  parametric_equation = None, \n",
    "                  hamiltonian = None, \n",
    "                  regularization = False):\n",
    "    '''\n",
    "    Function that build an HNN(keras.sequential) model\n",
    "    \n",
    "    Args: \n",
    "        hidden_layer_size (iterable) :   The amount of neurons in the each hidden layer\n",
    "        optimizer         (string)   :   The optimisation algorithm. \n",
    "        optimizer_config  (dict)     :   The hyperparameters for the training algorithm\n",
    "        loss_function     (function) :   The loss function taking 2 arguments: ypred and ytrue\n",
    "        time_parameters   (list)     :   Array with [t0, tfinal, N] where N is the amount of training\n",
    "                                         times per epoch\n",
    "        initial_state     (np.array) :   The initial state\n",
    "        environment parameters (dict):   The paramters of the envirenment, mass and length for a \n",
    "                                         pendulum\n",
    "        hamilton_equations (function):   The hamilton equations, in terms of tf.Tensor\n",
    "        \n",
    "    Returns: \n",
    "        model             (HNN)     :  An equation based Hamiltonian Neural network \n",
    "    '''\n",
    "    # Check if all the required arguments are provided \n",
    "    _check_arguments(locals()) \n",
    "        \n",
    "    # Create an equation based HNN\n",
    "    model = HNN(t0 = time_parameters[0], \n",
    "                tfinal = time_parameters[1],\n",
    "                N = time_parameters[2],\n",
    "                initial_state = initial_state, \n",
    "                environment_parameters = environment_parameters, \n",
    "                hamilton_equations = hamilton_equations, \n",
    "                parametric_equation = parametric_equation, \n",
    "                hamiltonian = hamiltonian,\n",
    "                regularization = regularization)\n",
    "    \n",
    "    # Define input layer, always 1 dimension: time\n",
    "    inp = keras.layers.Input(shape=(1,))\n",
    "    model.add(inp)\n",
    "    \n",
    "    # Define hidden layer structure\n",
    "    for hidden_layer_size in hidden_layer_sizes:\n",
    "        layer = keras.layers.Dense(hidden_layer_size, activation=SineActivationLayer())\n",
    "        model.add(layer)\n",
    "    \n",
    "    # Final layer\n",
    "    out = keras.layers.Dense(2)\n",
    "    model.add(out)\n",
    "\n",
    "    # Compile model with optimizer and loss\n",
    "    model.compile(loss=loss_function, \n",
    "                  optimizer=_build_optimizer(optimizer, optimizer_config))\n",
    "\n",
    "    return model\n",
    "\n"
   ]
  },
  {
   "cell_type": "markdown",
   "id": "2fab0bfe-d8b9-4d8d-9ac3-3de3f5f110bd",
   "metadata": {},
   "source": [
    "## Specific scenario, defined by the choice of Hamilton equations and parametric equations\n",
    "### Create the model, with loss and optimizer\n",
    "### Fit the model"
   ]
  },
  {
   "cell_type": "code",
   "execution_count": 73,
   "id": "c4922ab2-3538-4333-bb92-a7e7217b73bd",
   "metadata": {},
   "outputs": [
    {
     "name": "stdout",
     "output_type": "stream",
     "text": [
      "WARNING:tensorflow:Gradients do not exist for variables ['Variable:0', 'Variable:0', 'Variable:0'] when minimizing the loss. If you're using `model.compile()`, did you forget to provide a `loss` argument?\n"
     ]
    },
    {
     "name": "stderr",
     "output_type": "stream",
     "text": [
      "WARNING:tensorflow:Gradients do not exist for variables ['Variable:0', 'Variable:0', 'Variable:0'] when minimizing the loss. If you're using `model.compile()`, did you forget to provide a `loss` argument?\n"
     ]
    },
    {
     "name": "stdout",
     "output_type": "stream",
     "text": [
      "WARNING:tensorflow:Gradients do not exist for variables ['Variable:0', 'Variable:0', 'Variable:0'] when minimizing the loss. If you're using `model.compile()`, did you forget to provide a `loss` argument?\n"
     ]
    },
    {
     "name": "stderr",
     "output_type": "stream",
     "text": [
      "WARNING:tensorflow:Gradients do not exist for variables ['Variable:0', 'Variable:0', 'Variable:0'] when minimizing the loss. If you're using `model.compile()`, did you forget to provide a `loss` argument?\n"
     ]
    },
    {
     "name": "stdout",
     "output_type": "stream",
     "text": [
      "WARNING:tensorflow:Gradients do not exist for variables ['Variable:0', 'Variable:0', 'Variable:0'] when minimizing the loss. If you're using `model.compile()`, did you forget to provide a `loss` argument?\n"
     ]
    },
    {
     "name": "stderr",
     "output_type": "stream",
     "text": [
      "WARNING:tensorflow:Gradients do not exist for variables ['Variable:0', 'Variable:0', 'Variable:0'] when minimizing the loss. If you're using `model.compile()`, did you forget to provide a `loss` argument?\n"
     ]
    },
    {
     "name": "stdout",
     "output_type": "stream",
     "text": [
      "WARNING:tensorflow:Gradients do not exist for variables ['Variable:0', 'Variable:0', 'Variable:0'] when minimizing the loss. If you're using `model.compile()`, did you forget to provide a `loss` argument?\n"
     ]
    },
    {
     "name": "stderr",
     "output_type": "stream",
     "text": [
      "WARNING:tensorflow:Gradients do not exist for variables ['Variable:0', 'Variable:0', 'Variable:0'] when minimizing the loss. If you're using `model.compile()`, did you forget to provide a `loss` argument?\n"
     ]
    },
    {
     "data": {
      "text/plain": [
       "<keras.callbacks.History at 0x1eaef6f4880>"
      ]
     },
     "execution_count": 73,
     "metadata": {},
     "output_type": "execute_result"
    }
   ],
   "source": [
    "def pe1(times,\n",
    "        states,\n",
    "        initial_state): \n",
    "    '''\n",
    "    Parametric equation enforcing the initial condition on the Neural network\n",
    "    '''\n",
    "    \n",
    "    # Perform Parametric equation\n",
    "    f = 1 - tf.math.exp(-times)\n",
    "    result = initial_state + f * states\n",
    "    \n",
    "    return result\n",
    "    \n",
    "def pendulum_hamilton(tens, params): \n",
    "    '''\n",
    "    Hamiton equations for a 2D pendulum\n",
    "    '''\n",
    "    \n",
    "    q_tens = tens[:,:1]\n",
    "    p_tens = tens[:,1:]\n",
    "\n",
    "    q_deriv = tf.multiply(p_tens, 1./(params['m'] * params['l'] * params['l']))\n",
    "    p_deriv = tf.multiply(tf.math.sin(q_tens), -9.81 * params['m'] * params['l']) \n",
    "\n",
    "    deriv = tf.concat([q_deriv, p_deriv], axis = 1)        \n",
    "    return deriv \n",
    "\n",
    "def pendulum_hamiltonian(tens, params): \n",
    "    #TODO\n",
    "    pass \n",
    "\n",
    "    \n",
    "\n",
    "# Build the model\n",
    "model = build_hnn_keras(hidden_layer_sizes = (50, 50),\n",
    "                  optimizer = \"adam\",\n",
    "                  optimizer_config = {'lr': 8e-3, 'beta_1': 0.999, 'beta_2': 0.999},\n",
    "                  loss_function = custom_mse,\n",
    "                  time_parameters = [t0, tfinal, N], \n",
    "                  initial_state = y0,\n",
    "                  environment_parameters = {\"m\": m, \"l\": l}, \n",
    "                  parametric_equation = pe1, \n",
    "                  hamilton_equations = pendulum_hamilton,\n",
    "                  hamiltonian = hamiltonian, \n",
    "                  regularization = True)\n",
    "\n",
    "# Fit the model. Features and Labels are dummies!\n",
    "model.fit(np.zeros(N).reshape(-1, 1), \n",
    "          np.zeros((N, 2)),\n",
    "          batch_size=N,\n",
    "          epochs=int(5e4), \n",
    "          verbose = 0)"
   ]
  },
  {
   "cell_type": "markdown",
   "id": "7c892d2a-cfb6-4f3a-90cb-facffb173848",
   "metadata": {},
   "source": [
    "## Import old model "
   ]
  },
  {
   "cell_type": "code",
   "execution_count": 97,
   "id": "9ca334cf-1ac2-412a-bc51-a054fcc513ae",
   "metadata": {
    "jupyter": {
     "source_hidden": true
    },
    "tags": []
   },
   "outputs": [
    {
     "data": {
      "text/plain": [
       "<tensorflow.python.checkpoint.checkpoint.CheckpointLoadStatus at 0x1eaf2f195d0>"
      ]
     },
     "execution_count": 97,
     "metadata": {},
     "output_type": "execute_result"
    }
   ],
   "source": [
    "model2 = build_hnn_keras(hidden_layer_sizes = (50, 50),\n",
    "                  optimizer = \"adam\",\n",
    "                  optimizer_config = {'lr': 8e-3, 'beta_1': 0.999, 'beta_2': 0.999},\n",
    "                  loss_function = custom_mse,\n",
    "                  time_parameters = [0, 4, 200], \n",
    "                  initial_state = np.array([np.pi/4, 0]),\n",
    "                  environment_parameters = {\"m\": 1, \"l\": 1}, \n",
    "                  parametric_equation = pe1, \n",
    "                  hamilton_equations = pendulum_hamilton)\n",
    "\n",
    "model2.load_weights(\"hnn_models/pendulum/model5.tf\")"
   ]
  },
  {
   "cell_type": "markdown",
   "id": "15e32bb9-ed45-44ef-9110-39186577466c",
   "metadata": {},
   "source": [
    "## Plot the loss curve"
   ]
  },
  {
   "cell_type": "code",
   "execution_count": 103,
   "id": "bbcde496-1d01-4e49-a42a-3ebe361c4857",
   "metadata": {},
   "outputs": [
    {
     "data": {
      "image/png": "[encoded data removed]",
      "text/plain": [
       "<Figure size 1000x600 with 1 Axes>"
      ]
     },
     "metadata": {},
     "output_type": "display_data"
    }
   ],
   "source": [
    "#loss = model.history.history[\"loss\"]\n",
    "fig, ax = plt.subplots(1, 1, figsize = (10, 6))\n",
    "\n",
    "ax.scatter(np.arange(0, len(loss)), loss, s = 2)\n",
    "ax.set_yscale(\"log\")\n",
    "ax.set_xscale(\"log\")\n",
    "\n",
    "ax.set_title(\"Loss curve\", fontsize = 20)\n",
    "ax.set_xlabel(\"Epochs [-]\", fontsize = 18)\n",
    "ax.set_ylabel(\"Loss\", fontsize = 18)\n",
    "\n",
    "for axis in ['top','bottom','left','right']:\n",
    "    ax.spines[axis].set_linewidth(1.5)\n",
    "ax.tick_params(labelsize=16)\n",
    "ax.tick_params(axis=\"both\",direction=\"in\",which=\"both\", length=2, width = 1.5)\n",
    "ax.tick_params(bottom=True, top=True, left=True, right=True)\n",
    "ax.grid()"
   ]
  },
  {
   "cell_type": "code",
   "execution_count": 101,
   "id": "c4374c11-900d-4dc5-8059-147eebaf3a80",
   "metadata": {},
   "outputs": [
    {
     "name": "stdout",
     "output_type": "stream",
     "text": [
      "7/7 [==============================] - 0s 1ms/step\n"
     ]
    },
    {
     "data": {
      "image/png": "[encoded data removed]",
      "text/plain": [
       "<Figure size 1400x700 with 2 Axes>"
      ]
     },
     "metadata": {},
     "output_type": "display_data"
    }
   ],
   "source": [
    "# def parametric_equation(times, states, initial_state): \n",
    "        \n",
    "#     f = 1 - np.exp(-times)\n",
    "#     result = np.repeat(np.array([initial_state]), len(states), axis=0) + f * states\n",
    "\n",
    "#     return result\n",
    "# states = parametric_equation(predict_time, regr.predict(predict_time), y0)\n",
    "\n",
    "predict_time = np.linspace(t0, tfinal, N).reshape(-1, 1)\n",
    "states = model.parametric_predict(predict_time) \n",
    "\n",
    "fig, axes = plt.subplots(1, 2, figsize = (14, 7))\n",
    "fig.tight_layout(pad=8)\n",
    "fig.suptitle(f\"2D Pendulum (m = {m}, l = {l})\", y = 0.95, fontsize = 20)\n",
    "axes[0].plot(predict_time[:,0], states[:,0], label = \"Eqn-driven HNN\")\n",
    "axes[0].plot(bench.states['canonical'][:,0], bench.states['canonical'][:,1], label = \"Runge Kutta 8(7)\", linestyle = '--')\n",
    "axes[0].legend(loc = 'upper right')\n",
    "axes[0].set_xlabel(\"Time [s]\", fontsize = 18)\n",
    "axes[0].set_ylabel(r\"$\\theta$ [rad]\", fontsize = 18)\n",
    "\n",
    "axes[1].plot(predict_time[:,0], states[:,1], label = \"Eqn-driven HNN\")\n",
    "axes[1].plot(bench.states['canonical'][:,0], bench.states['canonical'][:,2], label = \"Runge Kutta 8(7)\", linestyle = '--')\n",
    "axes[1].legend(loc = 'upper right')\n",
    "axes[1].set_xlabel(\"Time [s]\", fontsize = 18)\n",
    "axes[1].set_ylabel(r\"p$_{\\theta}$ [rad kg m$^2$ s$^{-1}$]\", fontsize = 18)\n",
    "\n",
    "for ax in axes:\n",
    "    for axis in ['top','bottom','left','right']:\n",
    "        ax.spines[axis].set_linewidth(2)\n",
    "    ax.tick_params(labelsize=16)\n",
    "    ax.tick_params(axis=\"both\",direction=\"in\",which=\"both\", length=4, width = 2)\n",
    "    ax.tick_params(bottom=True, top=True, left=True, right=True)"
   ]
  },
  {
   "cell_type": "code",
   "execution_count": null,
   "id": "e83f95a6-db13-4cd8-82dc-b3da7c0ae49a",
   "metadata": {},
   "outputs": [],
   "source": [
    "# This is a temporary method for saving\n",
    "import os \n",
    "\n",
    "def save_model_weights(model, path, override = False):    \n",
    "    \n",
    "    if os.path.exists(path + \".index\"): \n",
    "        if override: \n",
    "            print(f\"I will overwrite: {path}\")\n",
    "        else: \n",
    "            raise ValueError(\"Path already exists\")\n",
    "            \n",
    "    model.save_weights(path)\n",
    "\n",
    "    \n",
    "save_model_weights(model, \"hnn_models/pendulum/model5.tf\") "
   ]
  },
  {
   "cell_type": "code",
   "execution_count": 45,
   "id": "8e302fbd-8c79-4353-9faf-a703f305598c",
   "metadata": {
    "jupyter": {
     "source_hidden": true
    },
    "tags": []
   },
   "outputs": [
    {
     "name": "stdout",
     "output_type": "stream",
     "text": [
      "tf.Tensor(\n",
      "[[1. 2.]\n",
      " [5. 6.]], shape=(2, 2), dtype=float32)\n",
      "<class 'tensorflow.python.framework.ops.EagerTensor'>\n",
      "[[1. 2.]\n",
      " [5. 6.]]\n"
     ]
    }
   ],
   "source": [
    "def parametric_equation(self, \n",
    "                        times, \n",
    "                        states, \n",
    "                        initial_state): \n",
    "    \n",
    "    # If predicting, with numpy times input, convert times to tensor\n",
    "    tensor = tf.is_tensor(times)\n",
    "    if not tensor: \n",
    "        tf.convert_to_tensor(times) \n",
    "    \n",
    "    # Perform Parametric equation\n",
    "    f = 1 - tf.math.exp(-times)\n",
    "    result = initial_state + f * states\n",
    "    \n",
    "    # Return tensor if training and array if predicting\n",
    "    if tensor: \n",
    "        return result\n",
    "    else: \n",
    "        return result.numpy()\n",
    "\n",
    "\n",
    "\n",
    "\n",
    "states= tf.convert_to_tensor([[1, 2], [5, 6]], dtype=tf.float32)\n",
    "\n",
    "print(states)\n",
    "print(type(states))\n",
    "\n",
    "if not tf.is_tensor(states):\n",
    "    print(\"tensor\")\n",
    "print(states.numpy())"
   ]
  },
  {
   "cell_type": "code",
   "execution_count": 40,
   "id": "f79be38e-cb15-4802-90ff-239d2da7dd02",
   "metadata": {
    "jupyter": {
     "source_hidden": true
    },
    "tags": []
   },
   "outputs": [
    {
     "name": "stdout",
     "output_type": "stream",
     "text": [
      "<class 'numpy.float32'>\n",
      "14.625\n",
      "tf.Tensor(29.25, shape=(), dtype=float32)\n"
     ]
    }
   ],
   "source": [
    "mse = tf.keras.losses.MeanSquaredError()\n",
    "a = tf.convert_to_tensor([[1, 2], [3, 4], [5, 6], [7, 8]], dtype=tf.float32 )\n",
    "b = tf.convert_to_tensor([[8, 6], [2, 8], [5, 9], [2, 7]], dtype=tf.float32 )\n",
    "loss = mse(a, b).numpy()\n",
    "print(type(loss))\n",
    "print(loss)\n",
    "\n",
    "def custom_mse(y_true, y_pred):  \n",
    "        \n",
    "    \n",
    "    difference = y_true - y_pred \n",
    "    difference_squared = difference**2\n",
    "    loss = tf.math.reduce_mean(tf.math.reduce_sum(difference_squared, axis = 1))\n",
    "        \n",
    "    return loss\n",
    "\n",
    "loss2 = custom_mse(a, b)\n",
    "print(loss2)"
   ]
  },
  {
   "cell_type": "code",
   "execution_count": 15,
   "id": "83cd4aaa-e297-4ed9-8640-b108a197c1d4",
   "metadata": {
    "collapsed": true,
    "jupyter": {
     "outputs_hidden": true,
     "source_hidden": true
    },
    "tags": []
   },
   "outputs": [
    {
     "name": "stdout",
     "output_type": "stream",
     "text": [
      "WARNING:tensorflow:Gradients do not exist for variables ['Variable:0', 'Variable:0', 'Variable:0'] when minimizing the loss. If you're using `model.compile()`, did you forget to provide a `loss` argument?\n",
      "WARNING:tensorflow:Gradients do not exist for variables ['Variable:0', 'Variable:0', 'Variable:0'] when minimizing the loss. If you're using `model.compile()`, did you forget to provide a `loss` argument?\n"
     ]
    },
    {
     "name": "stderr",
     "output_type": "stream",
     "text": [
      "WARNING:absl:Found untraced functions such as _update_step_xla, sine_activation_layer_layer_call_fn, sine_activation_layer_layer_call_and_return_conditional_losses, sine_activation_layer_1_layer_call_fn, sine_activation_layer_1_layer_call_and_return_conditional_losses while saving (showing 5 of 5). These functions will not be directly callable after loading.\n"
     ]
    },
    {
     "ename": "TypeError",
     "evalue": "tf.float32 has type DType, but expected one of: int, long, bool",
     "output_type": "error",
     "traceback": [
      "\u001b[1;31m---------------------------------------------------------------------------\u001b[0m",
      "\u001b[1;31mTypeError\u001b[0m                                 Traceback (most recent call last)",
      "Cell \u001b[1;32mIn[15], line 2\u001b[0m\n\u001b[0;32m      1\u001b[0m \u001b[38;5;66;03m# This will be the new saving method, hopefully...\u001b[39;00m\n\u001b[1;32m----> 2\u001b[0m \u001b[43mregr\u001b[49m\u001b[38;5;241;43m.\u001b[39;49m\u001b[43mmodel_\u001b[49m\u001b[38;5;241;43m.\u001b[39;49m\u001b[43msave\u001b[49m\u001b[43m(\u001b[49m\u001b[38;5;124;43m\"\u001b[39;49m\u001b[38;5;124;43mhnn_models/pendulum/model2\u001b[39;49m\u001b[38;5;124;43m\"\u001b[39;49m\u001b[43m)\u001b[49m\n",
      "File \u001b[1;32m~\\Anaconda3\\envs\\space_hnn_tf\\lib\\site-packages\\keras\\utils\\traceback_utils.py:70\u001b[0m, in \u001b[0;36mfilter_traceback.<locals>.error_handler\u001b[1;34m(*args, **kwargs)\u001b[0m\n\u001b[0;32m     67\u001b[0m     filtered_tb \u001b[38;5;241m=\u001b[39m _process_traceback_frames(e\u001b[38;5;241m.\u001b[39m__traceback__)\n\u001b[0;32m     68\u001b[0m     \u001b[38;5;66;03m# To get the full stack trace, call:\u001b[39;00m\n\u001b[0;32m     69\u001b[0m     \u001b[38;5;66;03m# `tf.debugging.disable_traceback_filtering()`\u001b[39;00m\n\u001b[1;32m---> 70\u001b[0m     \u001b[38;5;28;01mraise\u001b[39;00m e\u001b[38;5;241m.\u001b[39mwith_traceback(filtered_tb) \u001b[38;5;28;01mfrom\u001b[39;00m \u001b[38;5;28mNone\u001b[39m\n\u001b[0;32m     71\u001b[0m \u001b[38;5;28;01mfinally\u001b[39;00m:\n\u001b[0;32m     72\u001b[0m     \u001b[38;5;28;01mdel\u001b[39;00m filtered_tb\n",
      "File \u001b[1;32m~\\Anaconda3\\envs\\space_hnn_tf\\lib\\site-packages\\tensorflow\\python\\ops\\resource_variable_ops.py:2694\u001b[0m, in \u001b[0;36mwrite_object_proto_for_resource_variable\u001b[1;34m(resource_variable, proto, options, enforce_naming)\u001b[0m\n\u001b[0;32m   2689\u001b[0m   \u001b[38;5;28;01mraise\u001b[39;00m \u001b[38;5;167;01mValueError\u001b[39;00m(\u001b[38;5;124mf\u001b[39m\u001b[38;5;124m\"\u001b[39m\u001b[38;5;124mCowardly refusing to save variable \u001b[39m\u001b[38;5;124m\"\u001b[39m\n\u001b[0;32m   2690\u001b[0m                    \u001b[38;5;124mf\u001b[39m\u001b[38;5;124m\"\u001b[39m\u001b[38;5;132;01m{\u001b[39;00mresource_variable\u001b[38;5;241m.\u001b[39mname\u001b[38;5;132;01m}\u001b[39;00m\u001b[38;5;124m because of \u001b[39m\u001b[38;5;124m\"\u001b[39m\n\u001b[0;32m   2691\u001b[0m                    \u001b[38;5;124mf\u001b[39m\u001b[38;5;124m\"\u001b[39m\u001b[38;5;124munexpected suffix in the name (expected \u001b[39m\u001b[38;5;124m'\u001b[39m\u001b[38;5;124m:0\u001b[39m\u001b[38;5;124m'\u001b[39m\u001b[38;5;124m)\u001b[39m\u001b[38;5;124m\"\u001b[39m\n\u001b[0;32m   2692\u001b[0m                    \u001b[38;5;124mf\u001b[39m\u001b[38;5;124m\"\u001b[39m\u001b[38;5;124mwhich won\u001b[39m\u001b[38;5;124m'\u001b[39m\u001b[38;5;124mt be restored.\u001b[39m\u001b[38;5;124m\"\u001b[39m)\n\u001b[0;32m   2693\u001b[0m proto\u001b[38;5;241m.\u001b[39mvariable\u001b[38;5;241m.\u001b[39mname \u001b[38;5;241m=\u001b[39m meta_graph\u001b[38;5;241m.\u001b[39m_op_name(resource_variable\u001b[38;5;241m.\u001b[39mname)  \u001b[38;5;66;03m# pylint: disable=protected-access\u001b[39;00m\n\u001b[1;32m-> 2694\u001b[0m \u001b[43mproto\u001b[49m\u001b[38;5;241;43m.\u001b[39;49m\u001b[43mvariable\u001b[49m\u001b[38;5;241;43m.\u001b[39;49m\u001b[43mtrainable\u001b[49m \u001b[38;5;241m=\u001b[39m resource_variable\u001b[38;5;241m.\u001b[39mtrainable\n\u001b[0;32m   2695\u001b[0m proto\u001b[38;5;241m.\u001b[39mvariable\u001b[38;5;241m.\u001b[39mdtype \u001b[38;5;241m=\u001b[39m resource_variable\u001b[38;5;241m.\u001b[39mdtype\u001b[38;5;241m.\u001b[39mas_datatype_enum\n\u001b[0;32m   2696\u001b[0m proto\u001b[38;5;241m.\u001b[39mvariable\u001b[38;5;241m.\u001b[39msynchronization \u001b[38;5;241m=\u001b[39m resource_variable\u001b[38;5;241m.\u001b[39msynchronization\u001b[38;5;241m.\u001b[39mvalue\n",
      "\u001b[1;31mTypeError\u001b[0m: tf.float32 has type DType, but expected one of: int, long, bool"
     ]
    }
   ],
   "source": [
    "# This will be the new saving method, hopefully...\n",
    "regr.model_.save(\"hnn_models/pendulum/model2\")"
   ]
  },
  {
   "cell_type": "code",
   "execution_count": 687,
   "id": "cd1945ae-2eb5-4887-b59e-f064daae86d1",
   "metadata": {
    "collapsed": true,
    "jupyter": {
     "outputs_hidden": true,
     "source_hidden": true
    },
    "tags": []
   },
   "outputs": [
    {
     "data": {
      "text/plain": [
       "<tf.Tensor: shape=(2, 4), dtype=float32, numpy=\n",
       "array([[ 3.000e-03,  4.000e-03, -2.943e+03, -3.924e+03],\n",
       "       [ 7.000e-03,  8.000e-03, -6.867e+03, -7.848e+03]], dtype=float32)>"
      ]
     },
     "execution_count": 687,
     "metadata": {},
     "output_type": "execute_result"
    }
   ],
   "source": [
    "tens = tf.convert_to_tensor([[1, 2, 3, 4], [5, 6, 7, 8]], dtype=tf.float32 )\n",
    "\n",
    "def hamilton_equation(tens, m, l): \n",
    "            \n",
    "        deriv = tf.zeros(tens.shape)\n",
    "        q_tens = tens[:,:2]\n",
    "        p_tens = tens[:,2:]\n",
    "        \n",
    "        q_deriv = tf.multiply(p_tens, 1./(m*l*l))\n",
    "        p_deriv = tf.multiply(p_tens, -9.81 * m *l) \n",
    "        \n",
    "        deriv = tf.concat([q_deriv, p_deriv], axis = 1)\n",
    "        \n",
    "        return deriv \n",
    "    \n",
    "hamilton_equation(tens, 10, 10)"
   ]
  },
  {
   "cell_type": "code",
   "execution_count": 234,
   "id": "bfd0d04e-fa6a-461f-a1b8-4374a6eb06a4",
   "metadata": {
    "collapsed": true,
    "jupyter": {
     "outputs_hidden": true,
     "source_hidden": true
    },
    "tags": []
   },
   "outputs": [
    {
     "name": "stdout",
     "output_type": "stream",
     "text": [
      "[[0.7274682 ]\n",
      " [0.96662676]\n",
      " [0.9864314 ]]\n",
      "tf.Tensor(\n",
      "[[ 10. 100.]\n",
      " [ 12. 102.]\n",
      " [ 14. 140.]], shape=(3, 2), dtype=float32)\n",
      "tf.Tensor(\n",
      "[[  7.274682   72.74682  ]\n",
      " [ 11.599522   98.59593  ]\n",
      " [ 13.8100395 138.1004   ]], shape=(3, 2), dtype=float32)\n",
      "state_0 =  tf.Tensor([1. 2.], shape=(2,), dtype=float32)\n",
      "tf.Tensor(\n",
      "[[  8.274682   74.74682  ]\n",
      " [ 12.599522  100.59593  ]\n",
      " [ 14.8100395 140.1004   ]], shape=(3, 2), dtype=float32)\n",
      "tf.Tensor(\n",
      "[[1. 1.]\n",
      " [2. 2.]\n",
      " [3. 3.]], shape=(3, 2), dtype=float32)\n",
      "tf.Tensor([10. 20.], shape=(2,), dtype=float32)\n",
      "tf.Tensor(\n",
      "[[11. 21.]\n",
      " [12. 22.]\n",
      " [13. 23.]], shape=(3, 2), dtype=float32)\n"
     ]
    }
   ],
   "source": [
    "states = tf.convert_to_tensor([[10, 100], [12, 102], [14, 140]], dtype=tf.float32 )\n",
    "state_0 = tf.convert_to_tensor([1, 2], dtype=tf.float32 )\n",
    "\n",
    "times = tf.convert_to_tensor([[1.3],[3.4],[4.3]], dtype=tf.float32) \n",
    "\n",
    "def parametric_equation(times, states, state_0): \n",
    "        \n",
    "    f = 1 - np.exp(-times)\n",
    "    print(f) \n",
    "    print(states)\n",
    "    print(f*states)\n",
    "    print(\"state_0 = \", state_0)\n",
    "    result = state_0 + f*states\n",
    "    print(result)\n",
    "    return result\n",
    "\n",
    "parametric_equation(times, states, state_0)\n",
    "\n",
    "a = tf.convert_to_tensor([[1, 1], [2, 2], [3,3]], dtype=tf.float32)\n",
    "b = tf.convert_to_tensor([10, 20], dtype=tf.float32)\n",
    "print(a)\n",
    "print(b)\n",
    "print(b + a)"
   ]
  },
  {
   "cell_type": "code",
   "execution_count": 146,
   "id": "94200b84-490d-4640-99af-59ccac0aa260",
   "metadata": {
    "collapsed": true,
    "jupyter": {
     "outputs_hidden": true,
     "source_hidden": true
    },
    "tags": []
   },
   "outputs": [
    {
     "name": "stdout",
     "output_type": "stream",
     "text": [
      "tf.Tensor(\n",
      "[[0.]\n",
      " [1.]\n",
      " [2.]\n",
      " [3.]\n",
      " [4.]\n",
      " [5.]\n",
      " [6.]\n",
      " [7.]\n",
      " [8.]\n",
      " [9.]], shape=(10, 1), dtype=float32)\n",
      "tf.Tensor(\n",
      "[[0.000e+00 0.000e+00 0.000e+00]\n",
      " [1.000e+00 1.000e+00 1.000e+00]\n",
      " [4.000e+00 8.000e+00 1.600e+01]\n",
      " [9.000e+00 2.700e+01 8.100e+01]\n",
      " [1.600e+01 6.400e+01 2.560e+02]\n",
      " [2.500e+01 1.250e+02 6.250e+02]\n",
      " [3.600e+01 2.160e+02 1.296e+03]\n",
      " [4.900e+01 3.430e+02 2.401e+03]\n",
      " [6.400e+01 5.120e+02 4.096e+03]\n",
      " [8.100e+01 7.290e+02 6.561e+03]], shape=(10, 3), dtype=float32)\n",
      "tf.Tensor(\n",
      "[[0.000e+00 0.000e+00 0.000e+00]\n",
      " [2.000e+00 3.000e+00 4.000e+00]\n",
      " [4.000e+00 1.200e+01 3.200e+01]\n",
      " [6.000e+00 2.700e+01 1.080e+02]\n",
      " [8.000e+00 4.800e+01 2.560e+02]\n",
      " [1.000e+01 7.500e+01 5.000e+02]\n",
      " [1.200e+01 1.080e+02 8.640e+02]\n",
      " [1.400e+01 1.470e+02 1.372e+03]\n",
      " [1.600e+01 1.920e+02 2.048e+03]\n",
      " [1.800e+01 2.430e+02 2.916e+03]], shape=(10, 3), dtype=float32)\n"
     ]
    }
   ],
   "source": [
    "import tensorflow as tf\n",
    "\n",
    "N = 10 \n",
    "def my_function(x):\n",
    "    a = x**2\n",
    "    b = x**3\n",
    "    c = x**4\n",
    "    return tf.concat([a, b, c], axis = 1)\n",
    "\n",
    "x = tf.reshape(tf.range(N, dtype=tf.float32), (-1,1))\n",
    "\n",
    "with tf.GradientTape(persistent=True) as tape:\n",
    "    tape.watch(x)\n",
    "    a = my_function(x)\n",
    "\n",
    "deriv = tape.jacobian(a, x)\n",
    "\n",
    "# Reshaping the Jacobian using tensor magic...\n",
    "idx = tf.reshape(tf.stack(tf.meshgrid(tf.range(a.shape[0]), tf.range(a.shape[1]), indexing='ij'), axis=-1), [-1, 2])\n",
    "idx = tf.expand_dims(tf.concat([idx, tf.expand_dims(idx[:, 0], axis=-1)], axis=-1), axis=1)\n",
    "deriv = tf.gather_nd(deriv, idx)\n",
    "deriv = tf.reshape(deriv, a.shape)\n",
    "\n",
    "print(x)\n",
    "print(a)\n",
    "print(deriv)"
   ]
  },
  {
   "cell_type": "code",
   "execution_count": 129,
   "id": "0d79b208-6121-471e-b239-9c43eb28b086",
   "metadata": {
    "collapsed": true,
    "jupyter": {
     "outputs_hidden": true,
     "source_hidden": true
    },
    "tags": []
   },
   "outputs": [
    {
     "ename": "InvalidArgumentError",
     "evalue": "{{function_node __wrapped__Pack_N_2_device_/job:localhost/replica:0/task:0/device:CPU:0}} Shapes of all inputs must match: values[0].shape = [10,1] != values[1].shape = [2] [Op:Pack] name: stack",
     "output_type": "error",
     "traceback": [
      "\u001b[1;31m---------------------------------------------------------------------------\u001b[0m",
      "\u001b[1;31mInvalidArgumentError\u001b[0m                      Traceback (most recent call last)",
      "Cell \u001b[1;32mIn[129], line 6\u001b[0m\n\u001b[0;32m      3\u001b[0m N \u001b[38;5;241m=\u001b[39m \u001b[38;5;241m2\u001b[39m\n\u001b[0;32m      5\u001b[0m old \u001b[38;5;241m=\u001b[39m tf\u001b[38;5;241m.\u001b[39mones((M, N, M, \u001b[38;5;241m1\u001b[39m))  \u001b[38;5;66;03m# Example input tensor\u001b[39;00m\n\u001b[1;32m----> 6\u001b[0m idx \u001b[38;5;241m=\u001b[39m \u001b[43mtf\u001b[49m\u001b[38;5;241;43m.\u001b[39;49m\u001b[43mstack\u001b[49m\u001b[43m(\u001b[49m\u001b[43m[\u001b[49m\u001b[43mtf\u001b[49m\u001b[38;5;241;43m.\u001b[39;49m\u001b[43mrange\u001b[49m\u001b[43m(\u001b[49m\u001b[43mM\u001b[49m\u001b[43m)\u001b[49m\u001b[43m[\u001b[49m\u001b[43m:\u001b[49m\u001b[43m,\u001b[49m\u001b[43m \u001b[49m\u001b[43mtf\u001b[49m\u001b[38;5;241;43m.\u001b[39;49m\u001b[43mnewaxis\u001b[49m\u001b[43m]\u001b[49m\u001b[43m,\u001b[49m\u001b[43m \u001b[49m\u001b[43mtf\u001b[49m\u001b[38;5;241;43m.\u001b[39;49m\u001b[43mrange\u001b[49m\u001b[43m(\u001b[49m\u001b[43mN\u001b[49m\u001b[43m)\u001b[49m\u001b[43m]\u001b[49m\u001b[43m,\u001b[49m\u001b[43m \u001b[49m\u001b[43maxis\u001b[49m\u001b[38;5;241;43m=\u001b[39;49m\u001b[38;5;241;43m-\u001b[39;49m\u001b[38;5;241;43m1\u001b[39;49m\u001b[43m)\u001b[49m\n\u001b[0;32m      7\u001b[0m new \u001b[38;5;241m=\u001b[39m tf\u001b[38;5;241m.\u001b[39mgather_nd(old, tf\u001b[38;5;241m.\u001b[39mconcat([idx, idx[:, :\u001b[38;5;241m1\u001b[39m, tf\u001b[38;5;241m.\u001b[39mnewaxis]], axis\u001b[38;5;241m=\u001b[39m\u001b[38;5;241m-\u001b[39m\u001b[38;5;241m1\u001b[39m))\n",
      "File \u001b[1;32m~\\Anaconda3\\envs\\space_hnn_tf\\lib\\site-packages\\tensorflow\\python\\util\\traceback_utils.py:153\u001b[0m, in \u001b[0;36mfilter_traceback.<locals>.error_handler\u001b[1;34m(*args, **kwargs)\u001b[0m\n\u001b[0;32m    151\u001b[0m \u001b[38;5;28;01mexcept\u001b[39;00m \u001b[38;5;167;01mException\u001b[39;00m \u001b[38;5;28;01mas\u001b[39;00m e:\n\u001b[0;32m    152\u001b[0m   filtered_tb \u001b[38;5;241m=\u001b[39m _process_traceback_frames(e\u001b[38;5;241m.\u001b[39m__traceback__)\n\u001b[1;32m--> 153\u001b[0m   \u001b[38;5;28;01mraise\u001b[39;00m e\u001b[38;5;241m.\u001b[39mwith_traceback(filtered_tb) \u001b[38;5;28;01mfrom\u001b[39;00m \u001b[38;5;28mNone\u001b[39m\n\u001b[0;32m    154\u001b[0m \u001b[38;5;28;01mfinally\u001b[39;00m:\n\u001b[0;32m    155\u001b[0m   \u001b[38;5;28;01mdel\u001b[39;00m filtered_tb\n",
      "File \u001b[1;32m~\\Anaconda3\\envs\\space_hnn_tf\\lib\\site-packages\\tensorflow\\python\\framework\\ops.py:7215\u001b[0m, in \u001b[0;36mraise_from_not_ok_status\u001b[1;34m(e, name)\u001b[0m\n\u001b[0;32m   7213\u001b[0m \u001b[38;5;28;01mdef\u001b[39;00m \u001b[38;5;21mraise_from_not_ok_status\u001b[39m(e, name):\n\u001b[0;32m   7214\u001b[0m   e\u001b[38;5;241m.\u001b[39mmessage \u001b[38;5;241m+\u001b[39m\u001b[38;5;241m=\u001b[39m (\u001b[38;5;124m\"\u001b[39m\u001b[38;5;124m name: \u001b[39m\u001b[38;5;124m\"\u001b[39m \u001b[38;5;241m+\u001b[39m name \u001b[38;5;28;01mif\u001b[39;00m name \u001b[38;5;129;01mis\u001b[39;00m \u001b[38;5;129;01mnot\u001b[39;00m \u001b[38;5;28;01mNone\u001b[39;00m \u001b[38;5;28;01melse\u001b[39;00m \u001b[38;5;124m\"\u001b[39m\u001b[38;5;124m\"\u001b[39m)\n\u001b[1;32m-> 7215\u001b[0m   \u001b[38;5;28;01mraise\u001b[39;00m core\u001b[38;5;241m.\u001b[39m_status_to_exception(e) \u001b[38;5;28;01mfrom\u001b[39;00m \u001b[38;5;28mNone\u001b[39m\n",
      "\u001b[1;31mInvalidArgumentError\u001b[0m: {{function_node __wrapped__Pack_N_2_device_/job:localhost/replica:0/task:0/device:CPU:0}} Shapes of all inputs must match: values[0].shape = [10,1] != values[1].shape = [2] [Op:Pack] name: stack"
     ]
    }
   ],
   "source": [
    "import tensorflow as tf\n",
    "M = 10\n",
    "N = 2\n",
    "\n",
    "old = tf.ones((M, N, M, 1))  # Example input tensor\n",
    "idx = tf.stack([tf.range(M)[:, tf.newaxis], tf.range(N)], axis=-1)\n",
    "new = tf.gather_nd(old, tf.concat([idx, idx[:, :1, tf.newaxis]], axis=-1))\n"
   ]
  },
  {
   "cell_type": "code",
   "execution_count": 235,
   "id": "0c5f1a20-4de9-492a-9b69-454eb31dd740",
   "metadata": {
    "jupyter": {
     "source_hidden": true
    },
    "tags": []
   },
   "outputs": [],
   "source": [
    "import tensorflow as tf\n",
    "\n",
    "M = 14\n",
    "N = 5\n",
    "\n",
    "old = tf.ones((M, N, M, 1))  # Example input tensor\n",
    "\n",
    "# Create index tensor with shape (M*N, 2)\n",
    "idx = tf.reshape(tf.stack(tf.meshgrid(tf.range(M), tf.range(N), indexing='ij'), axis=-1), [-1, 2])\n",
    "\n",
    "# Modify index tensor to have shape (M*N, 1, 1, 3)\n",
    "idx = tf.expand_dims(tf.concat([idx, tf.expand_dims(idx[:, 0], axis=-1)], axis=-1), axis=1)\n",
    "\n",
    "# Use gather_nd to extract elements from old tensor\n",
    "new = tf.gather_nd(old, idx)\n",
    "\n",
    "# Reshape the resulting tensor to shape (M, N)\n",
    "new = tf.reshape(new, [M, N])\n"
   ]
  },
  {
   "cell_type": "code",
   "execution_count": 243,
   "id": "aaeca417-0f5c-4c12-966b-3d574aca94f4",
   "metadata": {
    "jupyter": {
     "source_hidden": true
    },
    "tags": []
   },
   "outputs": [
    {
     "name": "stdout",
     "output_type": "stream",
     "text": [
      "tf.Tensor(96.5, shape=(), dtype=float32)\n",
      "tf.Tensor([98.5 96.5 94.5], shape=(3,), dtype=float32)\n"
     ]
    }
   ],
   "source": [
    "from tensorflow.keras.losses import mean_absolute_error\n",
    "\n",
    "y_true = tf.convert_to_tensor([[100, 100], \n",
    "                               [100, 100], \n",
    "                               [100, 100]], dtype=tf.float32 )\n",
    "\n",
    "y_pred = tf.convert_to_tensor([[1, 2], \n",
    "                               [3, 4], \n",
    "                               [5, 6]], dtype=tf.float32 )\n",
    "\n",
    "\n",
    "\n",
    "def MSE_custom_loss(y_true, y_pred): \n",
    "    print(tf.math.reduce_mean(y_true - y_pred))\n",
    "    print(mean_absolute_error(y_true, y_pred))\n",
    "    return None\n",
    "\n",
    "a = MSE_custom_loss(y_true, y_pred)"
   ]
  },
  {
   "cell_type": "code",
   "execution_count": 53,
   "id": "f51519a2-ed50-499e-b836-d056c36a0df6",
   "metadata": {
    "collapsed": true,
    "jupyter": {
     "outputs_hidden": true,
     "source_hidden": true
    },
    "tags": []
   },
   "outputs": [
    {
     "name": "stdout",
     "output_type": "stream",
     "text": [
      "tf.Tensor(\n",
      "[[0.]\n",
      " [1.]\n",
      " [2.]\n",
      " [3.]\n",
      " [4.]\n",
      " [5.]\n",
      " [6.]], shape=(7, 1), dtype=float32)\n",
      "tf.Tensor(\n",
      "[[-0.5238063]\n",
      " [ 0.8654609]\n",
      " [ 1.8617184]\n",
      " [ 2.9132996]\n",
      " [ 4.2779264]\n",
      " [ 4.92798  ]\n",
      " [ 5.7338076]], shape=(7, 1), dtype=float32)\n",
      "tf.Tensor(\n",
      "[[0.       ]\n",
      " [0.8654609]\n",
      " [1.8617184]\n",
      " [2.9132996]\n",
      " [4.2779264]\n",
      " [4.92798  ]\n",
      " [5.7338076]], shape=(7, 1), dtype=float32)\n"
     ]
    }
   ],
   "source": [
    "import tensorflow as tf\n",
    "\n",
    "def perturbPoints(times): \n",
    "    \n",
    "    # Extract informatio\n",
    "    dt = times[1] - times[0]\n",
    "    t0 = times[0]\n",
    "    tfinal = times[-1]\n",
    "    \n",
    "    # Create noise\n",
    "    noise = tf.random.normal(times.shape, mean = 0, stddev = 0.4*dt)\n",
    "    \n",
    "    # Perturb times\n",
    "    new_times = times + noise \n",
    "    \n",
    "    # Make sure time is not outside [t0, tf]: set to t0 or tf if violated\n",
    "    new_times = tf.where(tf.less(new_times, t0), t0, new_times)\n",
    "    new_times = tf.where(tf.greater(new_times, tfinal), tfinal, new_times)\n",
    "    \n",
    "    return new_times\n",
    "\n",
    "times = tf.reshape(tf.convert_to_tensor([0, 1, 2, 3, 4, 5, 6], dtype=tf.float32 ), (-1, 1))\n",
    "perturbPoints(times)"
   ]
  }
 ],
 "metadata": {
  "kernelspec": {
   "display_name": "Python [conda env:space_hnn_tf]",
   "language": "python",
   "name": "conda-env-space_hnn_tf-py"
  },
  "language_info": {
   "codemirror_mode": {
    "name": "ipython",
    "version": 3
   },
   "file_extension": ".py",
   "mimetype": "text/x-python",
   "name": "python",
   "nbconvert_exporter": "python",
   "pygments_lexer": "ipython3",
   "version": "3.10.9"
  }
 },
 "nbformat": 4,
 "nbformat_minor": 5
}
