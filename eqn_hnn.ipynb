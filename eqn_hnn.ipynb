{
 "cells": [
  {
   "cell_type": "code",
   "execution_count": 359,
   "id": "594a6a0a-7b9a-45fa-8d66-fcd0e3c697fe",
   "metadata": {},
   "outputs": [],
   "source": [
    "# General Imports\n",
    "import numpy as np\n",
    "import matplotlib.pyplot as plt\n",
    "from typing import Dict, Iterable, Any\n",
    "import joblib\n",
    "\n",
    "# Tensorflow Imports\n",
    "import tensorflow as tf\n",
    "from tensorflow import keras\n",
    "from tensorflow.keras.optimizers import Adam\n",
    "\n",
    "# Scikit Keras wrapper\n",
    "from scikeras.wrappers import KerasRegressor\n",
    "\n",
    "# Specialised loading bar for trainiung\n",
    "from tqdm.keras import TqdmCallback\n",
    "\n",
    "# Custom imports\n",
    "from pendulum import Pendulum_2D"
   ]
  },
  {
   "cell_type": "code",
   "execution_count": 360,
   "id": "4402872b-8c2e-46e6-af98-a68a5fba9e90",
   "metadata": {},
   "outputs": [],
   "source": [
    "class HNN(keras.Sequential):\n",
    "    \n",
    "    def __init__(self, time_parameters, initial_state, environment_parameters): \n",
    "        \n",
    "        super(HNN, self).__init__()\n",
    "        \n",
    "        # Time parameters\n",
    "        self.t0 = tf.Variable(time_parameters[0], dtype = tf.float32) \n",
    "        self.tfinal = tf.Variable(time_parameters[1], dtype = tf.float32) \n",
    "        self.N = tf.Variable(time_parameters[2], tf.float32) \n",
    "        self.grid = tf.reshape(tf.linspace(self.t0, self.tfinal, self.N), (-1, 1)) # Base time grid\n",
    "        self.dt = tf.cast((self.grid[1] - self.grid[0])[0], tf.float32)\n",
    "\n",
    "        # Initial state\n",
    "        self.initial_state = tf.convert_to_tensor(initial_state, dtype = tf.float32)\n",
    "        \n",
    "        # Environment parameters\n",
    "        self.environment_parameters = environment_parameters\n",
    "        self.g = 9.81\n",
    "    \n",
    "    @tf.function\n",
    "    def train_step(self, data):\n",
    "        \n",
    "        # Unpack the data. \n",
    "        _, __ = data \n",
    "        \n",
    "        # tf.print(\"Time before = \", self.grid)\n",
    "        time = self.getTimes() \n",
    "        # tf.print(\"Time after = \", time) \n",
    "        \n",
    "        # Watch gradients for backpropagation\n",
    "        with tf.GradientTape() as tape:\n",
    "            \n",
    "            # Watch gradients for calculating time derivative of output for loss\n",
    "            with tf.GradientTape() as tape2: \n",
    "                tape2.watch(time) \n",
    "                nn_result = self(time, training=True)  # Forward pass\n",
    "                state_pred = self.parametric_equation(time, nn_result, self.initial_state) # Enforce initial condition\n",
    "            \n",
    "            # Create LHS and RHS of Hamilton equations\n",
    "            state_deriv_from_hamilton = self.hamilton_equations(state_pred, self.environment_parameters)\n",
    "\n",
    "            # Get all partial derivatives with jacobian (AD) \n",
    "            state_deriv_from_ad = tape2.jacobian(state_pred, time) \n",
    "            \n",
    "            # Reshape the jacobian monstrosity....\n",
    "            idx = tf.reshape(tf.stack(tf.meshgrid(tf.range(state_pred.shape[0]), tf.range(state_pred.shape[1]), indexing='ij'), axis=-1), [-1, 2])\n",
    "            idx = tf.expand_dims(tf.concat([idx, tf.expand_dims(idx[:, 0], axis=-1)], axis=-1), axis=1)\n",
    "            state_deriv_from_ad = tf.gather_nd(state_deriv_from_ad, idx)\n",
    "            state_deriv_from_ad = tf.reshape(state_deriv_from_ad, state_pred.shape)\n",
    "            \n",
    "            # tf.print(\"Time           = \", time)\n",
    "            # tf.print(\"RHS (hamilton) = \", state_deriv_from_hamilton)\n",
    "            # tf.print(\"LHS (AD)       = \", state_deriv_from_ad)\n",
    "            # tf.print(\"\")\n",
    "            \n",
    "            # Debugging\n",
    "            # tf.print(\"state_pred shape: \", state_pred.shape)\n",
    "            # tf.print(\"state_deriv_from_hamilton shape: \", state_deriv_from_hamilton.shape)\n",
    "            # tf.print(\"state_deriv_from_ad shape: \", state_deriv_from_ad.shape) \n",
    "            \n",
    "            # Compute the loss value\n",
    "            loss = self.compiled_loss(state_deriv_from_ad, state_deriv_from_hamilton)\n",
    "            # tf.print(\"loss = \", loss) \n",
    "            \n",
    "        # Compute gradients\n",
    "        trainable_vars = self.trainable_variables\n",
    "        gradients = tape.gradient(loss, trainable_vars)\n",
    "        self.optimizer.apply_gradients(zip(gradients, trainable_vars))\n",
    "        self.compiled_metrics.update_state(state_deriv_from_ad, state_deriv_from_hamilton)\n",
    "        \n",
    "        return {m.name: m.result() for m in self.metrics}\n",
    "    \n",
    "    \n",
    "    def hamilton_equations(self, \n",
    "                           tens, \n",
    "                           params): \n",
    "        \n",
    "        q_tens = tens[:,:1]\n",
    "        p_tens = tens[:,1:]\n",
    "        \n",
    "        q_deriv = tf.multiply(p_tens, 1./(params['m'] * params['l'] * params['l']))\n",
    "        p_deriv = tf.multiply(tf.math.sin(q_tens), -9.81 * params['m'] * params['l']) \n",
    "        \n",
    "        deriv = tf.concat([q_deriv, p_deriv], axis = 1)        \n",
    "        return deriv\n",
    "    \n",
    "    def parametric_equation(self, \n",
    "                            times, \n",
    "                            states, \n",
    "                            initial_state): \n",
    "        \n",
    "        f = 1 - tf.math.exp(-times)\n",
    "        result = initial_state + f * states\n",
    "        \n",
    "        return result\n",
    "    \n",
    "    def getTimes(self): \n",
    "    \n",
    "        # Create noise\n",
    "        noise = tf.random.normal(self.grid.shape, mean = 0, stddev = tf.multiply(self.dt, 0.3))\n",
    "        \n",
    "        new_times = self.grid + noise \n",
    "\n",
    "        # Make sure time is not outside [t0, tf]: set to t0 or tf if violated\n",
    "        new_times = tf.where(tf.less(new_times, self.t0), self.t0, new_times)\n",
    "        new_times = tf.where(tf.greater(new_times, self.tfinal), self.tfinal, new_times)\n",
    "\n",
    "        return new_times\n",
    "    \n",
    "    \n",
    "class SineActivationLayer(tf.keras.layers.Layer):\n",
    "    def __init__(self, **kwargs):\n",
    "        super(SineActivationLayer, self).__init__(**kwargs)\n",
    "\n",
    "    def build(self, input_shape):\n",
    "        super(SineActivationLayer, self).build(input_shape)\n",
    "\n",
    "    def call(self, inputs):\n",
    "        return tf.math.sin(inputs)\n",
    "\n",
    "    def compute_output_shape(self, input_shape):\n",
    "        return input_shape"
   ]
  },
  {
   "cell_type": "code",
   "execution_count": 361,
   "id": "7905d515-1b9d-427f-8d19-b69b5b6a1f2e",
   "metadata": {},
   "outputs": [],
   "source": [
    "def build_hnn(hidden_layer_sizes: Iterable[int], \n",
    "              meta: Dict[str, Any], \n",
    "              time_parameters, \n",
    "              initial_state,\n",
    "              environment_parameters):\n",
    "        \n",
    "    # Create an HNN\n",
    "    model = HNN(time_parameters, \n",
    "                initial_state, \n",
    "                environment_parameters)\n",
    "    \n",
    "    # Define input layer, always 1 dimension: time\n",
    "    inp = keras.layers.Input(shape=(1,))\n",
    "    model.add(inp)\n",
    "    \n",
    "    # Define hidden layer structure\n",
    "    for hidden_layer_size in hidden_layer_sizes:\n",
    "        layer = keras.layers.Dense(hidden_layer_size, activation=SineActivationLayer())\n",
    "        model.add(layer)\n",
    "    \n",
    "    # Final layer\n",
    "    out = keras.layers.Dense(2)\n",
    "    model.add(out)\n",
    "\n",
    "    return model"
   ]
  },
  {
   "cell_type": "code",
   "execution_count": 308,
   "id": "498f51eb-e2c6-45e8-862e-72d99fb21dbd",
   "metadata": {},
   "outputs": [
    {
     "name": "stdout",
     "output_type": "stream",
     "text": [
      "0.00952911376953125\n"
     ]
    }
   ],
   "source": [
    "# System parameters\n",
    "m = 10\n",
    "l = 10\n",
    "\n",
    "# Initial condition\n",
    "y0 = np.array([np.pi/4, 0]) \n",
    "t0 = 0\n",
    "\n",
    "# Integration\n",
    "tfinal = 10\n",
    "time_step = 0.1\n",
    "N = 200\n",
    "\n",
    "# Create benchmark \n",
    "bench = Pendulum_2D(m, l)\n",
    "bench.set_initial_condition(t0, y0, \"generalized\")\n",
    "bench.integrate(\"dop853\", tfinal, \"generalized\", rtol = 1e-12, atol = 1e-12)\n",
    "bench.calculate_coordinates(\"canonical\")\n",
    "print(bench.time) "
   ]
  },
  {
   "cell_type": "code",
   "execution_count": 311,
   "id": "f0b5abf5-6a9f-4c9f-851a-0ded5ab649cc",
   "metadata": {},
   "outputs": [],
   "source": [
    "regr = KerasRegressor(model=build_hnn, \n",
    "                            hidden_layer_sizes=(50, 50),\n",
    "                            optimizer= \"adam\",\n",
    "                            epochs = int(5e4),\n",
    "                            loss=\"mse\",\n",
    "                            batch_size = N,\n",
    "                            run_eagerly =  False,\n",
    "                            optimizer__beta_1 = 0.999, \n",
    "                            optimizer__beta_2 = 0.999, \n",
    "                            optimizer__learning_rate=8e-3, \n",
    "                            time_parameters = [t0, tfinal, N],\n",
    "                            initial_state = y0, \n",
    "                            environment_parameters = {\"m\": m, \"l\": l})"
   ]
  },
  {
   "cell_type": "code",
   "execution_count": 312,
   "id": "7b968cd5-75df-4ab2-9858-f241174da8da",
   "metadata": {
    "tags": []
   },
   "outputs": [
    {
     "name": "stdout",
     "output_type": "stream",
     "text": [
      "WARNING:tensorflow:Gradients do not exist for variables ['Variable:0', 'Variable:0', 'Variable:0'] when minimizing the loss. If you're using `model.compile()`, did you forget to provide a `loss` argument?\n",
      "WARNING:tensorflow:Gradients do not exist for variables ['Variable:0', 'Variable:0', 'Variable:0'] when minimizing the loss. If you're using `model.compile()`, did you forget to provide a `loss` argument?\n",
      "WARNING:tensorflow:Gradients do not exist for variables ['Variable:0', 'Variable:0', 'Variable:0'] when minimizing the loss. If you're using `model.compile()`, did you forget to provide a `loss` argument?\n",
      "WARNING:tensorflow:Gradients do not exist for variables ['Variable:0', 'Variable:0', 'Variable:0'] when minimizing the loss. If you're using `model.compile()`, did you forget to provide a `loss` argument?\n"
     ]
    },
    {
     "data": {
      "text/html": [
       "<style>#sk-container-id-28 {color: black;background-color: white;}#sk-container-id-28 pre{padding: 0;}#sk-container-id-28 div.sk-toggleable {background-color: white;}#sk-container-id-28 label.sk-toggleable__label {cursor: pointer;display: block;width: 100%;margin-bottom: 0;padding: 0.3em;box-sizing: border-box;text-align: center;}#sk-container-id-28 label.sk-toggleable__label-arrow:before {content: \"▸\";float: left;margin-right: 0.25em;color: #696969;}#sk-container-id-28 label.sk-toggleable__label-arrow:hover:before {color: black;}#sk-container-id-28 div.sk-estimator:hover label.sk-toggleable__label-arrow:before {color: black;}#sk-container-id-28 div.sk-toggleable__content {max-height: 0;max-width: 0;overflow: hidden;text-align: left;background-color: #f0f8ff;}#sk-container-id-28 div.sk-toggleable__content pre {margin: 0.2em;color: black;border-radius: 0.25em;background-color: #f0f8ff;}#sk-container-id-28 input.sk-toggleable__control:checked~div.sk-toggleable__content {max-height: 200px;max-width: 100%;overflow: auto;}#sk-container-id-28 input.sk-toggleable__control:checked~label.sk-toggleable__label-arrow:before {content: \"▾\";}#sk-container-id-28 div.sk-estimator input.sk-toggleable__control:checked~label.sk-toggleable__label {background-color: #d4ebff;}#sk-container-id-28 div.sk-label input.sk-toggleable__control:checked~label.sk-toggleable__label {background-color: #d4ebff;}#sk-container-id-28 input.sk-hidden--visually {border: 0;clip: rect(1px 1px 1px 1px);clip: rect(1px, 1px, 1px, 1px);height: 1px;margin: -1px;overflow: hidden;padding: 0;position: absolute;width: 1px;}#sk-container-id-28 div.sk-estimator {font-family: monospace;background-color: #f0f8ff;border: 1px dotted black;border-radius: 0.25em;box-sizing: border-box;margin-bottom: 0.5em;}#sk-container-id-28 div.sk-estimator:hover {background-color: #d4ebff;}#sk-container-id-28 div.sk-parallel-item::after {content: \"\";width: 100%;border-bottom: 1px solid gray;flex-grow: 1;}#sk-container-id-28 div.sk-label:hover label.sk-toggleable__label {background-color: #d4ebff;}#sk-container-id-28 div.sk-serial::before {content: \"\";position: absolute;border-left: 1px solid gray;box-sizing: border-box;top: 0;bottom: 0;left: 50%;z-index: 0;}#sk-container-id-28 div.sk-serial {display: flex;flex-direction: column;align-items: center;background-color: white;padding-right: 0.2em;padding-left: 0.2em;position: relative;}#sk-container-id-28 div.sk-item {position: relative;z-index: 1;}#sk-container-id-28 div.sk-parallel {display: flex;align-items: stretch;justify-content: center;background-color: white;position: relative;}#sk-container-id-28 div.sk-item::before, #sk-container-id-28 div.sk-parallel-item::before {content: \"\";position: absolute;border-left: 1px solid gray;box-sizing: border-box;top: 0;bottom: 0;left: 50%;z-index: -1;}#sk-container-id-28 div.sk-parallel-item {display: flex;flex-direction: column;z-index: 1;position: relative;background-color: white;}#sk-container-id-28 div.sk-parallel-item:first-child::after {align-self: flex-end;width: 50%;}#sk-container-id-28 div.sk-parallel-item:last-child::after {align-self: flex-start;width: 50%;}#sk-container-id-28 div.sk-parallel-item:only-child::after {width: 0;}#sk-container-id-28 div.sk-dashed-wrapped {border: 1px dashed gray;margin: 0 0.4em 0.5em 0.4em;box-sizing: border-box;padding-bottom: 0.4em;background-color: white;}#sk-container-id-28 div.sk-label label {font-family: monospace;font-weight: bold;display: inline-block;line-height: 1.2em;}#sk-container-id-28 div.sk-label-container {text-align: center;}#sk-container-id-28 div.sk-container {/* jupyter's `normalize.less` sets `[hidden] { display: none; }` but bootstrap.min.css set `[hidden] { display: none !important; }` so we also need the `!important` here to be able to override the default hidden behavior on the sphinx rendered scikit-learn.org. See: https://github.com/scikit-learn/scikit-learn/issues/21755 */display: inline-block !important;position: relative;}#sk-container-id-28 div.sk-text-repr-fallback {display: none;}</style><div id=\"sk-container-id-28\" class=\"sk-top-container\"><div class=\"sk-text-repr-fallback\"><pre>KerasRegressor(\n",
       "\tmodel=&lt;function build_hnn at 0x000001668C10C670&gt;\n",
       "\tbuild_fn=None\n",
       "\twarm_start=False\n",
       "\trandom_state=None\n",
       "\toptimizer=adam\n",
       "\tloss=mse\n",
       "\tmetrics=None\n",
       "\tbatch_size=200\n",
       "\tvalidation_batch_size=None\n",
       "\tverbose=1\n",
       "\tcallbacks=None\n",
       "\tvalidation_split=0.0\n",
       "\tshuffle=True\n",
       "\trun_eagerly=True\n",
       "\tepochs=10000\n",
       "\thidden_layer_sizes=(50, 50)\n",
       "\toptimizer__beta_1=0.999\n",
       "\toptimizer__beta_2=0.999\n",
       "\toptimizer__learning_rate=0.008\n",
       "\ttime_parameters=[0, 10, 200]\n",
       "\tinitial_state=[0.78539816 0.        ]\n",
       "\tenvironment_parameters={&#x27;m&#x27;: 10, &#x27;l&#x27;: 10}\n",
       ")</pre><b>In a Jupyter environment, please rerun this cell to show the HTML representation or trust the notebook. <br />On GitHub, the HTML representation is unable to render, please try loading this page with nbviewer.org.</b></div><div class=\"sk-container\" hidden><div class=\"sk-item\"><div class=\"sk-estimator sk-toggleable\"><input class=\"sk-toggleable__control sk-hidden--visually\" id=\"sk-estimator-id-28\" type=\"checkbox\" checked><label for=\"sk-estimator-id-28\" class=\"sk-toggleable__label sk-toggleable__label-arrow\">KerasRegressor</label><div class=\"sk-toggleable__content\"><pre>KerasRegressor(\n",
       "\tmodel=&lt;function build_hnn at 0x000001668C10C670&gt;\n",
       "\tbuild_fn=None\n",
       "\twarm_start=False\n",
       "\trandom_state=None\n",
       "\toptimizer=adam\n",
       "\tloss=mse\n",
       "\tmetrics=None\n",
       "\tbatch_size=200\n",
       "\tvalidation_batch_size=None\n",
       "\tverbose=1\n",
       "\tcallbacks=None\n",
       "\tvalidation_split=0.0\n",
       "\tshuffle=True\n",
       "\trun_eagerly=True\n",
       "\tepochs=10000\n",
       "\thidden_layer_sizes=(50, 50)\n",
       "\toptimizer__beta_1=0.999\n",
       "\toptimizer__beta_2=0.999\n",
       "\toptimizer__learning_rate=0.008\n",
       "\ttime_parameters=[0, 10, 200]\n",
       "\tinitial_state=[0.78539816 0.        ]\n",
       "\tenvironment_parameters={&#x27;m&#x27;: 10, &#x27;l&#x27;: 10}\n",
       ")</pre></div></div></div></div></div>"
      ],
      "text/plain": [
       "KerasRegressor(\n",
       "\tmodel=<function build_hnn at 0x000001668C10C670>\n",
       "\tbuild_fn=None\n",
       "\twarm_start=False\n",
       "\trandom_state=None\n",
       "\toptimizer=adam\n",
       "\tloss=mse\n",
       "\tmetrics=None\n",
       "\tbatch_size=200\n",
       "\tvalidation_batch_size=None\n",
       "\tverbose=1\n",
       "\tcallbacks=None\n",
       "\tvalidation_split=0.0\n",
       "\tshuffle=True\n",
       "\trun_eagerly=True\n",
       "\tepochs=10000\n",
       "\thidden_layer_sizes=(50, 50)\n",
       "\toptimizer__beta_1=0.999\n",
       "\toptimizer__beta_2=0.999\n",
       "\toptimizer__learning_rate=0.008\n",
       "\ttime_parameters=[0, 10, 200]\n",
       "\tinitial_state=[0.78539816 0.        ]\n",
       "\tenvironment_parameters={'m': 10, 'l': 10}\n",
       ")"
      ]
     },
     "execution_count": 312,
     "metadata": {},
     "output_type": "execute_result"
    }
   ],
   "source": [
    "regr.fit(np.zeros(N).reshape(-1, 1), np.zeros((N, 2)), verbose = 0)"
   ]
  },
  {
   "cell_type": "code",
   "execution_count": 336,
   "id": "bbcde496-1d01-4e49-a42a-3ebe361c4857",
   "metadata": {},
   "outputs": [
    {
     "data": {
      "image/png": "[encoded data removed]",
      "text/plain": [
       "<Figure size 640x480 with 1 Axes>"
      ]
     },
     "metadata": {},
     "output_type": "display_data"
    }
   ],
   "source": [
    "loss = regr.history_[\"loss\"]\n",
    "plt.scatter(np.arange(0, len(loss)), loss, s = 2)\n",
    "plt.yscale(\"log\")"
   ]
  },
  {
   "cell_type": "code",
   "execution_count": 314,
   "id": "c4374c11-900d-4dc5-8059-147eebaf3a80",
   "metadata": {},
   "outputs": [
    {
     "name": "stdout",
     "output_type": "stream",
     "text": [
      "1/1 [==============================] - 0s 24ms/step\n"
     ]
    }
   ],
   "source": [
    "def parametric_equation(times, states, initial_state): \n",
    "        \n",
    "    f = 1 - np.exp(-times)\n",
    "    result = np.repeat(np.array([initial_state]), len(states), axis=0) + f * states\n",
    "\n",
    "    return result\n",
    "\n",
    "states = parametric_equation(train_time, regr.predict(np.linspace(t0, tfinal, N).reshape(-1, 1)), y0)"
   ]
  },
  {
   "cell_type": "code",
   "execution_count": 315,
   "id": "eab902e3-2e7b-44a9-adc3-bc1a081da5c4",
   "metadata": {},
   "outputs": [
    {
     "data": {
      "text/plain": [
       "Text(0, 0.5, 'Angle [rad]')"
      ]
     },
     "execution_count": 315,
     "metadata": {},
     "output_type": "execute_result"
    },
    {
     "data": {
      "image/png": "[encoded data removed]",
      "text/plain": [
       "<Figure size 640x480 with 1 Axes>"
      ]
     },
     "metadata": {},
     "output_type": "display_data"
    }
   ],
   "source": [
    "plt.title(f\"2D Pendulum (m = {m}, l = {l})\")\n",
    "plt.plot(train_time[:,0], states[:,0], label = \"Eqn-driven HNN\")\n",
    "plt.plot(bench.states['canonical'][:,0], bench.states['canonical'][:,1], label = \"Runge Kutta 8(7)\")\n",
    "plt.legend(loc = 'upper right')\n",
    "plt.xlabel(\"Time [s]\")\n",
    "plt.ylabel(\"Angle [rad]\")"
   ]
  },
  {
   "cell_type": "code",
   "execution_count": 358,
   "id": "e83f95a6-db13-4cd8-82dc-b3da7c0ae49a",
   "metadata": {},
   "outputs": [],
   "source": [
    "regr.model_.save_weights(\"hnn_models/pendulum/model1.tf\")"
   ]
  },
  {
   "cell_type": "code",
   "execution_count": 687,
   "id": "cd1945ae-2eb5-4887-b59e-f064daae86d1",
   "metadata": {
    "tags": []
   },
   "outputs": [
    {
     "data": {
      "text/plain": [
       "<tf.Tensor: shape=(2, 4), dtype=float32, numpy=\n",
       "array([[ 3.000e-03,  4.000e-03, -2.943e+03, -3.924e+03],\n",
       "       [ 7.000e-03,  8.000e-03, -6.867e+03, -7.848e+03]], dtype=float32)>"
      ]
     },
     "execution_count": 687,
     "metadata": {},
     "output_type": "execute_result"
    }
   ],
   "source": [
    "tens = tf.convert_to_tensor([[1, 2, 3, 4], [5, 6, 7, 8]], dtype=tf.float32 )\n",
    "\n",
    "def hamilton_equation(tens, m, l): \n",
    "            \n",
    "        deriv = tf.zeros(tens.shape)\n",
    "        q_tens = tens[:,:2]\n",
    "        p_tens = tens[:,2:]\n",
    "        \n",
    "        q_deriv = tf.multiply(p_tens, 1./(m*l*l))\n",
    "        p_deriv = tf.multiply(p_tens, -9.81 * m *l) \n",
    "        \n",
    "        deriv = tf.concat([q_deriv, p_deriv], axis = 1)\n",
    "        \n",
    "        return deriv \n",
    "    \n",
    "hamilton_equation(tens, 10, 10)"
   ]
  },
  {
   "cell_type": "code",
   "execution_count": 234,
   "id": "bfd0d04e-fa6a-461f-a1b8-4374a6eb06a4",
   "metadata": {
    "tags": []
   },
   "outputs": [
    {
     "name": "stdout",
     "output_type": "stream",
     "text": [
      "[[0.7274682 ]\n",
      " [0.96662676]\n",
      " [0.9864314 ]]\n",
      "tf.Tensor(\n",
      "[[ 10. 100.]\n",
      " [ 12. 102.]\n",
      " [ 14. 140.]], shape=(3, 2), dtype=float32)\n",
      "tf.Tensor(\n",
      "[[  7.274682   72.74682  ]\n",
      " [ 11.599522   98.59593  ]\n",
      " [ 13.8100395 138.1004   ]], shape=(3, 2), dtype=float32)\n",
      "state_0 =  tf.Tensor([1. 2.], shape=(2,), dtype=float32)\n",
      "tf.Tensor(\n",
      "[[  8.274682   74.74682  ]\n",
      " [ 12.599522  100.59593  ]\n",
      " [ 14.8100395 140.1004   ]], shape=(3, 2), dtype=float32)\n",
      "tf.Tensor(\n",
      "[[1. 1.]\n",
      " [2. 2.]\n",
      " [3. 3.]], shape=(3, 2), dtype=float32)\n",
      "tf.Tensor([10. 20.], shape=(2,), dtype=float32)\n",
      "tf.Tensor(\n",
      "[[11. 21.]\n",
      " [12. 22.]\n",
      " [13. 23.]], shape=(3, 2), dtype=float32)\n"
     ]
    }
   ],
   "source": [
    "states = tf.convert_to_tensor([[10, 100], [12, 102], [14, 140]], dtype=tf.float32 )\n",
    "state_0 = tf.convert_to_tensor([1, 2], dtype=tf.float32 )\n",
    "\n",
    "times = tf.convert_to_tensor([[1.3],[3.4],[4.3]], dtype=tf.float32) \n",
    "\n",
    "def parametric_equation(times, states, state_0): \n",
    "        \n",
    "    f = 1 - np.exp(-times)\n",
    "    print(f) \n",
    "    print(states)\n",
    "    print(f*states)\n",
    "    print(\"state_0 = \", state_0)\n",
    "    result = state_0 + f*states\n",
    "    print(result)\n",
    "    return result\n",
    "\n",
    "parametric_equation(times, states, state_0)\n",
    "\n",
    "a = tf.convert_to_tensor([[1, 1], [2, 2], [3,3]], dtype=tf.float32)\n",
    "b = tf.convert_to_tensor([10, 20], dtype=tf.float32)\n",
    "print(a)\n",
    "print(b)\n",
    "print(b + a)"
   ]
  },
  {
   "cell_type": "code",
   "execution_count": 146,
   "id": "94200b84-490d-4640-99af-59ccac0aa260",
   "metadata": {},
   "outputs": [
    {
     "name": "stdout",
     "output_type": "stream",
     "text": [
      "tf.Tensor(\n",
      "[[0.]\n",
      " [1.]\n",
      " [2.]\n",
      " [3.]\n",
      " [4.]\n",
      " [5.]\n",
      " [6.]\n",
      " [7.]\n",
      " [8.]\n",
      " [9.]], shape=(10, 1), dtype=float32)\n",
      "tf.Tensor(\n",
      "[[0.000e+00 0.000e+00 0.000e+00]\n",
      " [1.000e+00 1.000e+00 1.000e+00]\n",
      " [4.000e+00 8.000e+00 1.600e+01]\n",
      " [9.000e+00 2.700e+01 8.100e+01]\n",
      " [1.600e+01 6.400e+01 2.560e+02]\n",
      " [2.500e+01 1.250e+02 6.250e+02]\n",
      " [3.600e+01 2.160e+02 1.296e+03]\n",
      " [4.900e+01 3.430e+02 2.401e+03]\n",
      " [6.400e+01 5.120e+02 4.096e+03]\n",
      " [8.100e+01 7.290e+02 6.561e+03]], shape=(10, 3), dtype=float32)\n",
      "tf.Tensor(\n",
      "[[0.000e+00 0.000e+00 0.000e+00]\n",
      " [2.000e+00 3.000e+00 4.000e+00]\n",
      " [4.000e+00 1.200e+01 3.200e+01]\n",
      " [6.000e+00 2.700e+01 1.080e+02]\n",
      " [8.000e+00 4.800e+01 2.560e+02]\n",
      " [1.000e+01 7.500e+01 5.000e+02]\n",
      " [1.200e+01 1.080e+02 8.640e+02]\n",
      " [1.400e+01 1.470e+02 1.372e+03]\n",
      " [1.600e+01 1.920e+02 2.048e+03]\n",
      " [1.800e+01 2.430e+02 2.916e+03]], shape=(10, 3), dtype=float32)\n"
     ]
    }
   ],
   "source": [
    "import tensorflow as tf\n",
    "\n",
    "N = 10 \n",
    "def my_function(x):\n",
    "    a = x**2\n",
    "    b = x**3\n",
    "    c = x**4\n",
    "    return tf.concat([a, b, c], axis = 1)\n",
    "\n",
    "x = tf.reshape(tf.range(N, dtype=tf.float32), (-1,1))\n",
    "\n",
    "with tf.GradientTape(persistent=True) as tape:\n",
    "    tape.watch(x)\n",
    "    a = my_function(x)\n",
    "\n",
    "deriv = tape.jacobian(a, x)\n",
    "\n",
    "# Reshaping the Jacobian using tensor magic...\n",
    "idx = tf.reshape(tf.stack(tf.meshgrid(tf.range(a.shape[0]), tf.range(a.shape[1]), indexing='ij'), axis=-1), [-1, 2])\n",
    "idx = tf.expand_dims(tf.concat([idx, tf.expand_dims(idx[:, 0], axis=-1)], axis=-1), axis=1)\n",
    "deriv = tf.gather_nd(deriv, idx)\n",
    "deriv = tf.reshape(deriv, a.shape)\n",
    "\n",
    "print(x)\n",
    "print(a)\n",
    "print(deriv)"
   ]
  },
  {
   "cell_type": "code",
   "execution_count": 129,
   "id": "0d79b208-6121-471e-b239-9c43eb28b086",
   "metadata": {},
   "outputs": [
    {
     "ename": "InvalidArgumentError",
     "evalue": "{{function_node __wrapped__Pack_N_2_device_/job:localhost/replica:0/task:0/device:CPU:0}} Shapes of all inputs must match: values[0].shape = [10,1] != values[1].shape = [2] [Op:Pack] name: stack",
     "output_type": "error",
     "traceback": [
      "\u001b[1;31m---------------------------------------------------------------------------\u001b[0m",
      "\u001b[1;31mInvalidArgumentError\u001b[0m                      Traceback (most recent call last)",
      "Cell \u001b[1;32mIn[129], line 6\u001b[0m\n\u001b[0;32m      3\u001b[0m N \u001b[38;5;241m=\u001b[39m \u001b[38;5;241m2\u001b[39m\n\u001b[0;32m      5\u001b[0m old \u001b[38;5;241m=\u001b[39m tf\u001b[38;5;241m.\u001b[39mones((M, N, M, \u001b[38;5;241m1\u001b[39m))  \u001b[38;5;66;03m# Example input tensor\u001b[39;00m\n\u001b[1;32m----> 6\u001b[0m idx \u001b[38;5;241m=\u001b[39m \u001b[43mtf\u001b[49m\u001b[38;5;241;43m.\u001b[39;49m\u001b[43mstack\u001b[49m\u001b[43m(\u001b[49m\u001b[43m[\u001b[49m\u001b[43mtf\u001b[49m\u001b[38;5;241;43m.\u001b[39;49m\u001b[43mrange\u001b[49m\u001b[43m(\u001b[49m\u001b[43mM\u001b[49m\u001b[43m)\u001b[49m\u001b[43m[\u001b[49m\u001b[43m:\u001b[49m\u001b[43m,\u001b[49m\u001b[43m \u001b[49m\u001b[43mtf\u001b[49m\u001b[38;5;241;43m.\u001b[39;49m\u001b[43mnewaxis\u001b[49m\u001b[43m]\u001b[49m\u001b[43m,\u001b[49m\u001b[43m \u001b[49m\u001b[43mtf\u001b[49m\u001b[38;5;241;43m.\u001b[39;49m\u001b[43mrange\u001b[49m\u001b[43m(\u001b[49m\u001b[43mN\u001b[49m\u001b[43m)\u001b[49m\u001b[43m]\u001b[49m\u001b[43m,\u001b[49m\u001b[43m \u001b[49m\u001b[43maxis\u001b[49m\u001b[38;5;241;43m=\u001b[39;49m\u001b[38;5;241;43m-\u001b[39;49m\u001b[38;5;241;43m1\u001b[39;49m\u001b[43m)\u001b[49m\n\u001b[0;32m      7\u001b[0m new \u001b[38;5;241m=\u001b[39m tf\u001b[38;5;241m.\u001b[39mgather_nd(old, tf\u001b[38;5;241m.\u001b[39mconcat([idx, idx[:, :\u001b[38;5;241m1\u001b[39m, tf\u001b[38;5;241m.\u001b[39mnewaxis]], axis\u001b[38;5;241m=\u001b[39m\u001b[38;5;241m-\u001b[39m\u001b[38;5;241m1\u001b[39m))\n",
      "File \u001b[1;32m~\\Anaconda3\\envs\\space_hnn_tf\\lib\\site-packages\\tensorflow\\python\\util\\traceback_utils.py:153\u001b[0m, in \u001b[0;36mfilter_traceback.<locals>.error_handler\u001b[1;34m(*args, **kwargs)\u001b[0m\n\u001b[0;32m    151\u001b[0m \u001b[38;5;28;01mexcept\u001b[39;00m \u001b[38;5;167;01mException\u001b[39;00m \u001b[38;5;28;01mas\u001b[39;00m e:\n\u001b[0;32m    152\u001b[0m   filtered_tb \u001b[38;5;241m=\u001b[39m _process_traceback_frames(e\u001b[38;5;241m.\u001b[39m__traceback__)\n\u001b[1;32m--> 153\u001b[0m   \u001b[38;5;28;01mraise\u001b[39;00m e\u001b[38;5;241m.\u001b[39mwith_traceback(filtered_tb) \u001b[38;5;28;01mfrom\u001b[39;00m \u001b[38;5;28mNone\u001b[39m\n\u001b[0;32m    154\u001b[0m \u001b[38;5;28;01mfinally\u001b[39;00m:\n\u001b[0;32m    155\u001b[0m   \u001b[38;5;28;01mdel\u001b[39;00m filtered_tb\n",
      "File \u001b[1;32m~\\Anaconda3\\envs\\space_hnn_tf\\lib\\site-packages\\tensorflow\\python\\framework\\ops.py:7215\u001b[0m, in \u001b[0;36mraise_from_not_ok_status\u001b[1;34m(e, name)\u001b[0m\n\u001b[0;32m   7213\u001b[0m \u001b[38;5;28;01mdef\u001b[39;00m \u001b[38;5;21mraise_from_not_ok_status\u001b[39m(e, name):\n\u001b[0;32m   7214\u001b[0m   e\u001b[38;5;241m.\u001b[39mmessage \u001b[38;5;241m+\u001b[39m\u001b[38;5;241m=\u001b[39m (\u001b[38;5;124m\"\u001b[39m\u001b[38;5;124m name: \u001b[39m\u001b[38;5;124m\"\u001b[39m \u001b[38;5;241m+\u001b[39m name \u001b[38;5;28;01mif\u001b[39;00m name \u001b[38;5;129;01mis\u001b[39;00m \u001b[38;5;129;01mnot\u001b[39;00m \u001b[38;5;28;01mNone\u001b[39;00m \u001b[38;5;28;01melse\u001b[39;00m \u001b[38;5;124m\"\u001b[39m\u001b[38;5;124m\"\u001b[39m)\n\u001b[1;32m-> 7215\u001b[0m   \u001b[38;5;28;01mraise\u001b[39;00m core\u001b[38;5;241m.\u001b[39m_status_to_exception(e) \u001b[38;5;28;01mfrom\u001b[39;00m \u001b[38;5;28mNone\u001b[39m\n",
      "\u001b[1;31mInvalidArgumentError\u001b[0m: {{function_node __wrapped__Pack_N_2_device_/job:localhost/replica:0/task:0/device:CPU:0}} Shapes of all inputs must match: values[0].shape = [10,1] != values[1].shape = [2] [Op:Pack] name: stack"
     ]
    }
   ],
   "source": [
    "import tensorflow as tf\n",
    "M = 10\n",
    "N = 2\n",
    "\n",
    "old = tf.ones((M, N, M, 1))  # Example input tensor\n",
    "idx = tf.stack([tf.range(M)[:, tf.newaxis], tf.range(N)], axis=-1)\n",
    "new = tf.gather_nd(old, tf.concat([idx, idx[:, :1, tf.newaxis]], axis=-1))\n"
   ]
  },
  {
   "cell_type": "code",
   "execution_count": 235,
   "id": "0c5f1a20-4de9-492a-9b69-454eb31dd740",
   "metadata": {},
   "outputs": [],
   "source": [
    "import tensorflow as tf\n",
    "\n",
    "M = 14\n",
    "N = 5\n",
    "\n",
    "old = tf.ones((M, N, M, 1))  # Example input tensor\n",
    "\n",
    "# Create index tensor with shape (M*N, 2)\n",
    "idx = tf.reshape(tf.stack(tf.meshgrid(tf.range(M), tf.range(N), indexing='ij'), axis=-1), [-1, 2])\n",
    "\n",
    "# Modify index tensor to have shape (M*N, 1, 1, 3)\n",
    "idx = tf.expand_dims(tf.concat([idx, tf.expand_dims(idx[:, 0], axis=-1)], axis=-1), axis=1)\n",
    "\n",
    "# Use gather_nd to extract elements from old tensor\n",
    "new = tf.gather_nd(old, idx)\n",
    "\n",
    "# Reshape the resulting tensor to shape (M, N)\n",
    "new = tf.reshape(new, [M, N])\n"
   ]
  },
  {
   "cell_type": "code",
   "execution_count": 243,
   "id": "aaeca417-0f5c-4c12-966b-3d574aca94f4",
   "metadata": {},
   "outputs": [
    {
     "name": "stdout",
     "output_type": "stream",
     "text": [
      "tf.Tensor(96.5, shape=(), dtype=float32)\n",
      "tf.Tensor([98.5 96.5 94.5], shape=(3,), dtype=float32)\n"
     ]
    }
   ],
   "source": [
    "from tensorflow.keras.losses import mean_absolute_error\n",
    "\n",
    "y_true = tf.convert_to_tensor([[100, 100], \n",
    "                               [100, 100], \n",
    "                               [100, 100]], dtype=tf.float32 )\n",
    "\n",
    "y_pred = tf.convert_to_tensor([[1, 2], \n",
    "                               [3, 4], \n",
    "                               [5, 6]], dtype=tf.float32 )\n",
    "\n",
    "\n",
    "\n",
    "def MSE_custom_loss(y_true, y_pred): \n",
    "    print(tf.math.reduce_mean(y_true - y_pred))\n",
    "    print(mean_absolute_error(y_true, y_pred))\n",
    "    return None\n",
    "\n",
    "a = MSE_custom_loss(y_true, y_pred)"
   ]
  },
  {
   "cell_type": "code",
   "execution_count": 53,
   "id": "f51519a2-ed50-499e-b836-d056c36a0df6",
   "metadata": {},
   "outputs": [
    {
     "name": "stdout",
     "output_type": "stream",
     "text": [
      "tf.Tensor(\n",
      "[[0.]\n",
      " [1.]\n",
      " [2.]\n",
      " [3.]\n",
      " [4.]\n",
      " [5.]\n",
      " [6.]], shape=(7, 1), dtype=float32)\n",
      "tf.Tensor(\n",
      "[[-0.5238063]\n",
      " [ 0.8654609]\n",
      " [ 1.8617184]\n",
      " [ 2.9132996]\n",
      " [ 4.2779264]\n",
      " [ 4.92798  ]\n",
      " [ 5.7338076]], shape=(7, 1), dtype=float32)\n",
      "tf.Tensor(\n",
      "[[0.       ]\n",
      " [0.8654609]\n",
      " [1.8617184]\n",
      " [2.9132996]\n",
      " [4.2779264]\n",
      " [4.92798  ]\n",
      " [5.7338076]], shape=(7, 1), dtype=float32)\n"
     ]
    }
   ],
   "source": [
    "import tensorflow as tf\n",
    "\n",
    "def perturbPoints(times): \n",
    "    \n",
    "    # Extract informatio\n",
    "    dt = times[1] - times[0]\n",
    "    t0 = times[0]\n",
    "    tfinal = times[-1]\n",
    "    \n",
    "    # Create noise\n",
    "    noise = tf.random.normal(times.shape, mean = 0, stddev = 0.4*dt)\n",
    "    \n",
    "    # Perturb times\n",
    "    new_times = times + noise \n",
    "    \n",
    "    # Make sure time is not outside [t0, tf]: set to t0 or tf if violated\n",
    "    new_times = tf.where(tf.less(new_times, t0), t0, new_times)\n",
    "    new_times = tf.where(tf.greater(new_times, tfinal), tfinal, new_times)\n",
    "    \n",
    "    return new_times\n",
    "\n",
    "times = tf.reshape(tf.convert_to_tensor([0, 1, 2, 3, 4, 5, 6], dtype=tf.float32 ), (-1, 1))\n",
    "perturbPoints(times)"
   ]
  },
  {
   "cell_type": "code",
   "execution_count": null,
   "id": "2c86f4eb-432c-4403-b33d-6795b0ab63e6",
   "metadata": {},
   "outputs": [],
   "source": []
  }
 ],
 "metadata": {
  "kernelspec": {
   "display_name": "Python [conda env:space_hnn_tf]",
   "language": "python",
   "name": "conda-env-space_hnn_tf-py"
  },
  "language_info": {
   "codemirror_mode": {
    "name": "ipython",
    "version": 3
   },
   "file_extension": ".py",
   "mimetype": "text/x-python",
   "name": "python",
   "nbconvert_exporter": "python",
   "pygments_lexer": "ipython3",
   "version": "3.10.9"
  }
 },
 "nbformat": 4,
 "nbformat_minor": 5
}
