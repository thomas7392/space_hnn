{
 "cells": [
  {
   "cell_type": "code",
   "execution_count": 536,
   "id": "594a6a0a-7b9a-45fa-8d66-fcd0e3c697fe",
   "metadata": {},
   "outputs": [],
   "source": [
    "# General Imports\n",
    "import numpy as np\n",
    "import matplotlib.pyplot as plt\n",
    "from typing import Dict, Iterable, Any\n",
    "\n",
    "# Tensorflow Imports\n",
    "import tensorflow as tf\n",
    "from tensorflow import keras\n",
    "from tensorflow.keras.optimizers import Adam\n",
    "\n",
    "# Scikit Keras wrapper\n",
    "from scikeras.wrappers import KerasRegressor\n",
    "\n",
    "# Custom imports\n",
    "from pendulum import Pendulum_2D"
   ]
  },
  {
   "cell_type": "code",
   "execution_count": 602,
   "id": "4402872b-8c2e-46e6-af98-a68a5fba9e90",
   "metadata": {
    "tags": []
   },
   "outputs": [],
   "source": [
    "class HNN(keras.Sequential):\n",
    "    \n",
    "    def __init__(self): \n",
    "        \n",
    "        super(HNN, self).__init__()\n",
    "        \n",
    "        self.initial_state = tf.convert_to_tensor([np.pi/4, 0])\n",
    "        self.m = 10\n",
    "        self.l = 10\n",
    "        self.g = 9.81\n",
    "    \n",
    "    @tf.function\n",
    "    def train_step(self, data):\n",
    "        \n",
    "        # Unpack the data. \n",
    "        time, _ = data \n",
    "            \n",
    "        # Watch gradients for backpropagation\n",
    "        with tf.GradientTape() as tape:\n",
    "            \n",
    "            # Watch gradients for calculating time derivative of output for loss\n",
    "            with tf.GradientTape() as tape2: \n",
    "                tape2.watch(time) \n",
    "                nn_result = self(time, training=True)  # Forward pass\n",
    "                tape2.watch(nn_result)\n",
    "                state_pred = self.parametric_equation(time, nn_result)\n",
    "            \n",
    "            # Create LHS and RHS of Hamilton equations\n",
    "            state_deriv_from_ad = tape2.gradient(state_pred, time) \n",
    "            state_deriv_from_hamilton = self.hamilton_equations(state_pred)\n",
    "            \n",
    "            # Compute the loss value\n",
    "            loss = self.compiled_loss(state_deriv_from_ad, state_deriv_from_hamilton, regularization_losses=self.losses)\n",
    "\n",
    "        # Compute gradients\n",
    "        trainable_vars = self.trainable_variables\n",
    "        gradients = tape.gradient(loss, trainable_vars)\n",
    "        self.optimizer.apply_gradients(zip(gradients, trainable_vars))\n",
    "        self.compiled_metrics.update_state(state_deriv_from_ad, state_deriv_from_hamilton)\n",
    "        \n",
    "        return {m.name: m.result() for m in self.metrics}\n",
    "    \n",
    "    \n",
    "    def hamilton_equations(self, tens): \n",
    "        \n",
    "        q_tens = tens[:,:2]\n",
    "        p_tens = tens[:,2:]\n",
    "        \n",
    "        q_deriv = tf.multiply(p_tens, 1./(self.m*self.l*self.l))\n",
    "        p_deriv = tf.multiply(p_tens, -9.81 * self.m * self.l) \n",
    "        \n",
    "        deriv = tf.concat([q_deriv, p_deriv], axis = 1)\n",
    "        \n",
    "        return deriv\n",
    "    \n",
    "    def parametric_equation(self, times, states): \n",
    "        \n",
    "        f = 1 - tf.math.exp(-times)\n",
    "        result = self.initial_state + f * states\n",
    "\n",
    "        return result\n"
   ]
  },
  {
   "cell_type": "code",
   "execution_count": 603,
   "id": "7905d515-1b9d-427f-8d19-b69b5b6a1f2e",
   "metadata": {},
   "outputs": [],
   "source": [
    "def build_hnn(hidden_layer_sizes: Iterable[int], \n",
    "              meta: Dict[str, Any]):\n",
    "    \n",
    "    # Create an HNN\n",
    "    model = HNN()\n",
    "    \n",
    "    # Define input layer, always 1 dimenstion: time\n",
    "    inp = keras.layers.Input(shape=(1,))\n",
    "    model.add(inp)\n",
    "    \n",
    "    # Define hidden layer structure\n",
    "    for hidden_layer_size in hidden_layer_sizes:\n",
    "        layer = keras.layers.Dense(hidden_layer_size, activation=\"tanh\")\n",
    "        model.add(layer)\n",
    "    \n",
    "    # Final layer\n",
    "    out = keras.layers.Dense(2, activation=\"tanh\")\n",
    "    model.add(out)\n",
    "\n",
    "    return model"
   ]
  },
  {
   "cell_type": "code",
   "execution_count": 610,
   "id": "498f51eb-e2c6-45e8-862e-72d99fb21dbd",
   "metadata": {},
   "outputs": [],
   "source": [
    "# System parameters\n",
    "m = 10\n",
    "l = 10\n",
    "\n",
    "# Initial condition\n",
    "y0 = np.array([np.pi/4, 0]) \n",
    "t0 = 0\n",
    "\n",
    "# Integration\n",
    "tfinal = 100\n",
    "time_step = 0.1\n",
    "\n",
    "# Create benchmark \n",
    "bench = Pendulum_2D(m, l)\n",
    "bench.set_initial_condition(t0, y0, \"generalized\")\n",
    "bench.integrate(\"dop853\", tfinal, \"generalized\", rtol = 1e-12, atol = 1e-12)\n",
    "bench.calculate_coordinates(\"canonical\")"
   ]
  },
  {
   "cell_type": "code",
   "execution_count": 605,
   "id": "f0b5abf5-6a9f-4c9f-851a-0ded5ab649cc",
   "metadata": {},
   "outputs": [],
   "source": [
    "# Training data times\n",
    "N = 200\n",
    "train_time = np.linspace(t0, tfinal, N).reshape(-1, 1)\n",
    "dummy_targets = np.zeros((N, 2)) \n",
    "\n",
    "regr = KerasRegressor(model=build_hnn, \n",
    "                           hidden_layer_sizes=(50, 50),\n",
    "                           optimizer=\"adam\",\n",
    "                           epochs = 200,\n",
    "                           loss=\"mae\",\n",
    "                           optimizer__learning_rate=0.01, \n",
    "                           run_eagerly=True, \n",
    "                          batch_size = 30)"
   ]
  },
  {
   "cell_type": "code",
   "execution_count": 606,
   "id": "7b968cd5-75df-4ab2-9858-f241174da8da",
   "metadata": {
    "tags": []
   },
   "outputs": [
    {
     "data": {
      "text/html": [
       "<style>#sk-container-id-26 {color: black;background-color: white;}#sk-container-id-26 pre{padding: 0;}#sk-container-id-26 div.sk-toggleable {background-color: white;}#sk-container-id-26 label.sk-toggleable__label {cursor: pointer;display: block;width: 100%;margin-bottom: 0;padding: 0.3em;box-sizing: border-box;text-align: center;}#sk-container-id-26 label.sk-toggleable__label-arrow:before {content: \"▸\";float: left;margin-right: 0.25em;color: #696969;}#sk-container-id-26 label.sk-toggleable__label-arrow:hover:before {color: black;}#sk-container-id-26 div.sk-estimator:hover label.sk-toggleable__label-arrow:before {color: black;}#sk-container-id-26 div.sk-toggleable__content {max-height: 0;max-width: 0;overflow: hidden;text-align: left;background-color: #f0f8ff;}#sk-container-id-26 div.sk-toggleable__content pre {margin: 0.2em;color: black;border-radius: 0.25em;background-color: #f0f8ff;}#sk-container-id-26 input.sk-toggleable__control:checked~div.sk-toggleable__content {max-height: 200px;max-width: 100%;overflow: auto;}#sk-container-id-26 input.sk-toggleable__control:checked~label.sk-toggleable__label-arrow:before {content: \"▾\";}#sk-container-id-26 div.sk-estimator input.sk-toggleable__control:checked~label.sk-toggleable__label {background-color: #d4ebff;}#sk-container-id-26 div.sk-label input.sk-toggleable__control:checked~label.sk-toggleable__label {background-color: #d4ebff;}#sk-container-id-26 input.sk-hidden--visually {border: 0;clip: rect(1px 1px 1px 1px);clip: rect(1px, 1px, 1px, 1px);height: 1px;margin: -1px;overflow: hidden;padding: 0;position: absolute;width: 1px;}#sk-container-id-26 div.sk-estimator {font-family: monospace;background-color: #f0f8ff;border: 1px dotted black;border-radius: 0.25em;box-sizing: border-box;margin-bottom: 0.5em;}#sk-container-id-26 div.sk-estimator:hover {background-color: #d4ebff;}#sk-container-id-26 div.sk-parallel-item::after {content: \"\";width: 100%;border-bottom: 1px solid gray;flex-grow: 1;}#sk-container-id-26 div.sk-label:hover label.sk-toggleable__label {background-color: #d4ebff;}#sk-container-id-26 div.sk-serial::before {content: \"\";position: absolute;border-left: 1px solid gray;box-sizing: border-box;top: 0;bottom: 0;left: 50%;z-index: 0;}#sk-container-id-26 div.sk-serial {display: flex;flex-direction: column;align-items: center;background-color: white;padding-right: 0.2em;padding-left: 0.2em;position: relative;}#sk-container-id-26 div.sk-item {position: relative;z-index: 1;}#sk-container-id-26 div.sk-parallel {display: flex;align-items: stretch;justify-content: center;background-color: white;position: relative;}#sk-container-id-26 div.sk-item::before, #sk-container-id-26 div.sk-parallel-item::before {content: \"\";position: absolute;border-left: 1px solid gray;box-sizing: border-box;top: 0;bottom: 0;left: 50%;z-index: -1;}#sk-container-id-26 div.sk-parallel-item {display: flex;flex-direction: column;z-index: 1;position: relative;background-color: white;}#sk-container-id-26 div.sk-parallel-item:first-child::after {align-self: flex-end;width: 50%;}#sk-container-id-26 div.sk-parallel-item:last-child::after {align-self: flex-start;width: 50%;}#sk-container-id-26 div.sk-parallel-item:only-child::after {width: 0;}#sk-container-id-26 div.sk-dashed-wrapped {border: 1px dashed gray;margin: 0 0.4em 0.5em 0.4em;box-sizing: border-box;padding-bottom: 0.4em;background-color: white;}#sk-container-id-26 div.sk-label label {font-family: monospace;font-weight: bold;display: inline-block;line-height: 1.2em;}#sk-container-id-26 div.sk-label-container {text-align: center;}#sk-container-id-26 div.sk-container {/* jupyter's `normalize.less` sets `[hidden] { display: none; }` but bootstrap.min.css set `[hidden] { display: none !important; }` so we also need the `!important` here to be able to override the default hidden behavior on the sphinx rendered scikit-learn.org. See: https://github.com/scikit-learn/scikit-learn/issues/21755 */display: inline-block !important;position: relative;}#sk-container-id-26 div.sk-text-repr-fallback {display: none;}</style><div id=\"sk-container-id-26\" class=\"sk-top-container\"><div class=\"sk-text-repr-fallback\"><pre>KerasRegressor(\n",
       "\tmodel=&lt;function build_hnn at 0x000001CA97050280&gt;\n",
       "\tbuild_fn=None\n",
       "\twarm_start=False\n",
       "\trandom_state=None\n",
       "\toptimizer=adam\n",
       "\tloss=mae\n",
       "\tmetrics=None\n",
       "\tbatch_size=30\n",
       "\tvalidation_batch_size=None\n",
       "\tverbose=1\n",
       "\tcallbacks=None\n",
       "\tvalidation_split=0.0\n",
       "\tshuffle=True\n",
       "\trun_eagerly=True\n",
       "\tepochs=200\n",
       "\thidden_layer_sizes=(50, 50)\n",
       "\toptimizer__learning_rate=0.01\n",
       ")</pre><b>In a Jupyter environment, please rerun this cell to show the HTML representation or trust the notebook. <br />On GitHub, the HTML representation is unable to render, please try loading this page with nbviewer.org.</b></div><div class=\"sk-container\" hidden><div class=\"sk-item\"><div class=\"sk-estimator sk-toggleable\"><input class=\"sk-toggleable__control sk-hidden--visually\" id=\"sk-estimator-id-26\" type=\"checkbox\" checked><label for=\"sk-estimator-id-26\" class=\"sk-toggleable__label sk-toggleable__label-arrow\">KerasRegressor</label><div class=\"sk-toggleable__content\"><pre>KerasRegressor(\n",
       "\tmodel=&lt;function build_hnn at 0x000001CA97050280&gt;\n",
       "\tbuild_fn=None\n",
       "\twarm_start=False\n",
       "\trandom_state=None\n",
       "\toptimizer=adam\n",
       "\tloss=mae\n",
       "\tmetrics=None\n",
       "\tbatch_size=30\n",
       "\tvalidation_batch_size=None\n",
       "\tverbose=1\n",
       "\tcallbacks=None\n",
       "\tvalidation_split=0.0\n",
       "\tshuffle=True\n",
       "\trun_eagerly=True\n",
       "\tepochs=200\n",
       "\thidden_layer_sizes=(50, 50)\n",
       "\toptimizer__learning_rate=0.01\n",
       ")</pre></div></div></div></div></div>"
      ],
      "text/plain": [
       "KerasRegressor(\n",
       "\tmodel=<function build_hnn at 0x000001CA97050280>\n",
       "\tbuild_fn=None\n",
       "\twarm_start=False\n",
       "\trandom_state=None\n",
       "\toptimizer=adam\n",
       "\tloss=mae\n",
       "\tmetrics=None\n",
       "\tbatch_size=30\n",
       "\tvalidation_batch_size=None\n",
       "\tverbose=1\n",
       "\tcallbacks=None\n",
       "\tvalidation_split=0.0\n",
       "\tshuffle=True\n",
       "\trun_eagerly=True\n",
       "\tepochs=200\n",
       "\thidden_layer_sizes=(50, 50)\n",
       "\toptimizer__learning_rate=0.01\n",
       ")"
      ]
     },
     "execution_count": 606,
     "metadata": {},
     "output_type": "execute_result"
    }
   ],
   "source": [
    "regr.fit(train_time, dummy_targets, verbose = 0)"
   ]
  },
  {
   "cell_type": "code",
   "execution_count": 607,
   "id": "c4374c11-900d-4dc5-8059-147eebaf3a80",
   "metadata": {},
   "outputs": [
    {
     "name": "stdout",
     "output_type": "stream",
     "text": [
      "7/7 [==============================] - 0s 2ms/step\n"
     ]
    }
   ],
   "source": [
    "def parametric_equation(times, states, initial_state): \n",
    "        \n",
    "    f = 1 - np.exp(-times)\n",
    "    result = np.repeat(np.array([initial_state]), len(states), axis=0) + f * states\n",
    "\n",
    "    return result\n",
    "\n",
    "states = parametric_equation(train_time, regr.predict(train_time), np.array([np.pi/4, 0]))"
   ]
  },
  {
   "cell_type": "code",
   "execution_count": 611,
   "id": "eab902e3-2e7b-44a9-adc3-bc1a081da5c4",
   "metadata": {},
   "outputs": [
    {
     "data": {
      "text/plain": [
       "[<matplotlib.lines.Line2D at 0x1ca993c0940>]"
      ]
     },
     "execution_count": 611,
     "metadata": {},
     "output_type": "execute_result"
    },
    {
     "data": {
      "image/png": "[encoded data removed]",
      "text/plain": [
       "<Figure size 640x480 with 1 Axes>"
      ]
     },
     "metadata": {},
     "output_type": "display_data"
    }
   ],
   "source": [
    "plt.plot(train_time[:,0], states[:,0])\n",
    "plt.plot(bench.states['canonical'][:,0], bench.states['canonical'][:,1])"
   ]
  },
  {
   "cell_type": "code",
   "execution_count": 400,
   "id": "cd1945ae-2eb5-4887-b59e-f064daae86d1",
   "metadata": {
    "jupyter": {
     "source_hidden": true
    },
    "tags": []
   },
   "outputs": [],
   "source": [
    "tens = tf.convert_to_tensor([[1, 2, 3, 4], [5, 6, 7, 8]], dtype=tf.float32 )\n",
    "\n",
    "def hamilton_equation(tens, m, l): \n",
    "            \n",
    "        deriv = tf.zeros(tens.shape)\n",
    "        q_tens = tens[:,:2]\n",
    "        p_tens = tens[:,2:]\n",
    "        \n",
    "        q_deriv = tf.multiply(p_tens, 1./(m*l*l))\n",
    "        p_deriv = tf.multiply(p_tens, -9.81 * m *l) \n",
    "        \n",
    "        deriv = tf.concat([q_deriv, p_deriv], axis = 1)\n",
    "        \n",
    "        return deriv "
   ]
  },
  {
   "cell_type": "code",
   "execution_count": 406,
   "id": "bfd0d04e-fa6a-461f-a1b8-4374a6eb06a4",
   "metadata": {
    "collapsed": true,
    "jupyter": {
     "outputs_hidden": true,
     "source_hidden": true
    },
    "tags": []
   },
   "outputs": [
    {
     "data": {
      "text/plain": [
       "<tf.Tensor: shape=(2, 4), dtype=float32, numpy=\n",
       "array([[ 1.7274683,  3.4549365,  5.1824045,  6.909873 ],\n",
       "       [ 5.8331337,  7.799761 ,  9.766388 , 11.733014 ]], dtype=float32)>"
      ]
     },
     "execution_count": 406,
     "metadata": {},
     "output_type": "execute_result"
    }
   ],
   "source": [
    "states = tf.convert_to_tensor([[1, 2, 3, 4], [5, 6, 7, 8]], dtype=tf.float32 )\n",
    "state_0 = tf.convert_to_tensor([[1, 2, 3, 4]], dtype=tf.float32 )\n",
    "\n",
    "times = tf.convert_to_tensor([[1.3],[3.4]], dtype=tf.float32) \n",
    "\n",
    "def parametric_equation(times, states, state_0): \n",
    "        \n",
    "    f = 1 - np.exp(-times)\n",
    "    result = state_0 + f*states\n",
    "\n",
    "    return result\n",
    "\n",
    "parametric_equation(times, states, state_0)"
   ]
  },
  {
   "cell_type": "code",
   "execution_count": null,
   "id": "94200b84-490d-4640-99af-59ccac0aa260",
   "metadata": {},
   "outputs": [],
   "source": []
  }
 ],
 "metadata": {
  "kernelspec": {
   "display_name": "Python [conda env:space_hnn_tf]",
   "language": "python",
   "name": "conda-env-space_hnn_tf-py"
  },
  "language_info": {
   "codemirror_mode": {
    "name": "ipython",
    "version": 3
   },
   "file_extension": ".py",
   "mimetype": "text/x-python",
   "name": "python",
   "nbconvert_exporter": "python",
   "pygments_lexer": "ipython3",
   "version": "3.10.9"
  }
 },
 "nbformat": 4,
 "nbformat_minor": 5
}
